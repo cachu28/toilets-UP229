{
 "cells": [
  {
   "cell_type": "markdown",
   "id": "0b401524",
   "metadata": {},
   "source": [
    "# Carolyn's scratch notebook to work through toilet data\n"
   ]
  },
  {
   "cell_type": "code",
   "execution_count": 3,
   "id": "536f20a7",
   "metadata": {},
   "outputs": [],
   "source": [
    "#load libraries\n",
    "\n",
    "import pandas as pd\n",
    "import geopandas as gpd\n",
    "import contextily as ctx\n",
    "import matplotlib.pyplot as plt"
   ]
  },
  {
   "cell_type": "markdown",
   "id": "f0c24e12",
   "metadata": {},
   "source": [
    "### Import Data from LA Parks and LA CAN"
   ]
  },
  {
   "cell_type": "code",
   "execution_count": 4,
   "id": "493a08ff",
   "metadata": {},
   "outputs": [],
   "source": [
    "# upload park bathroom data\n",
    "parks = pd.read_csv('MiscData/parkslatlon.csv')\n",
    "parks.dropna(inplace = True) #drop the few NaNs\n",
    "\n",
    "#upload LACan bathroom, handwashing stations, etc data\n",
    "lacan = pd.read_csv('LACAN Data/allstations_LACAN.csv')"
   ]
  },
  {
   "cell_type": "code",
   "execution_count": 5,
   "id": "a7c25dd7",
   "metadata": {},
   "outputs": [],
   "source": [
    "# convert to geodataframes and project\n",
    "parksGdf = gpd.GeoDataFrame(parks, geometry=gpd.points_from_xy(parks.lon, parks.lat, \n",
    "                                                               crs='EPSG:4326'))\n",
    "\n",
    "lacanGdf = gpd.GeoDataFrame(lacan, geometry=gpd.points_from_xy(lacan.X, lacan.Y, \n",
    "                                                               crs='EPSG:4326'))"
   ]
  },
  {
   "cell_type": "code",
   "execution_count": 20,
   "id": "a8bc737b",
   "metadata": {},
   "outputs": [
    {
     "ename": "DriverError",
     "evalue": "MyGeodataCloud_Public_Toilets_or_Bathrooms/toilets_point.geojson: No such file or directory",
     "output_type": "error",
     "traceback": [
      "\u001b[0;31m---------------------------------------------------------------------------\u001b[0m",
      "\u001b[0;31mCPLE_OpenFailedError\u001b[0m                      Traceback (most recent call last)",
      "File \u001b[0;32mfiona/_shim.pyx:83\u001b[0m, in \u001b[0;36mfiona._shim.gdal_open_vector\u001b[0;34m()\u001b[0m\n",
      "File \u001b[0;32mfiona/_err.pyx:291\u001b[0m, in \u001b[0;36mfiona._err.exc_wrap_pointer\u001b[0;34m()\u001b[0m\n",
      "\u001b[0;31mCPLE_OpenFailedError\u001b[0m: MyGeodataCloud_Public_Toilets_or_Bathrooms/toilets_point.geojson: No such file or directory",
      "\nDuring handling of the above exception, another exception occurred:\n",
      "\u001b[0;31mDriverError\u001b[0m                               Traceback (most recent call last)",
      "Input \u001b[0;32mIn [20]\u001b[0m, in \u001b[0;36m<cell line: 1>\u001b[0;34m()\u001b[0m\n\u001b[0;32m----> 1\u001b[0m geotoiletsGdf \u001b[38;5;241m=\u001b[39m \u001b[43mgpd\u001b[49m\u001b[38;5;241;43m.\u001b[39;49m\u001b[43mread_file\u001b[49m\u001b[43m(\u001b[49m\u001b[38;5;124;43m'\u001b[39;49m\u001b[38;5;124;43mMyGeodataCloud_Public_Toilets_or_Bathrooms/toilets_point.geojson\u001b[39;49m\u001b[38;5;124;43m'\u001b[39;49m\u001b[43m)\u001b[49m\n",
      "File \u001b[0;32m~/opt/anaconda3/envs/uds/lib/python3.8/site-packages/geopandas/io/file.py:201\u001b[0m, in \u001b[0;36m_read_file\u001b[0;34m(filename, bbox, mask, rows, **kwargs)\u001b[0m\n\u001b[1;32m    198\u001b[0m     reader \u001b[38;5;241m=\u001b[39m fiona\u001b[38;5;241m.\u001b[39mopen\n\u001b[1;32m    200\u001b[0m \u001b[38;5;28;01mwith\u001b[39;00m fiona_env():\n\u001b[0;32m--> 201\u001b[0m     \u001b[38;5;28;01mwith\u001b[39;00m \u001b[43mreader\u001b[49m\u001b[43m(\u001b[49m\u001b[43mpath_or_bytes\u001b[49m\u001b[43m,\u001b[49m\u001b[43m \u001b[49m\u001b[38;5;241;43m*\u001b[39;49m\u001b[38;5;241;43m*\u001b[39;49m\u001b[43mkwargs\u001b[49m\u001b[43m)\u001b[49m \u001b[38;5;28;01mas\u001b[39;00m features:\n\u001b[1;32m    202\u001b[0m \n\u001b[1;32m    203\u001b[0m         \u001b[38;5;66;03m# In a future Fiona release the crs attribute of features will\u001b[39;00m\n\u001b[1;32m    204\u001b[0m         \u001b[38;5;66;03m# no longer be a dict, but will behave like a dict. So this should\u001b[39;00m\n\u001b[1;32m    205\u001b[0m         \u001b[38;5;66;03m# be forwards compatible\u001b[39;00m\n\u001b[1;32m    206\u001b[0m         crs \u001b[38;5;241m=\u001b[39m (\n\u001b[1;32m    207\u001b[0m             features\u001b[38;5;241m.\u001b[39mcrs[\u001b[38;5;124m\"\u001b[39m\u001b[38;5;124minit\u001b[39m\u001b[38;5;124m\"\u001b[39m]\n\u001b[1;32m    208\u001b[0m             \u001b[38;5;28;01mif\u001b[39;00m features\u001b[38;5;241m.\u001b[39mcrs \u001b[38;5;129;01mand\u001b[39;00m \u001b[38;5;124m\"\u001b[39m\u001b[38;5;124minit\u001b[39m\u001b[38;5;124m\"\u001b[39m \u001b[38;5;129;01min\u001b[39;00m features\u001b[38;5;241m.\u001b[39mcrs\n\u001b[1;32m    209\u001b[0m             \u001b[38;5;28;01melse\u001b[39;00m features\u001b[38;5;241m.\u001b[39mcrs_wkt\n\u001b[1;32m    210\u001b[0m         )\n\u001b[1;32m    212\u001b[0m         \u001b[38;5;66;03m# handle loading the bounding box\u001b[39;00m\n",
      "File \u001b[0;32m~/opt/anaconda3/envs/uds/lib/python3.8/site-packages/fiona/env.py:408\u001b[0m, in \u001b[0;36mensure_env_with_credentials.<locals>.wrapper\u001b[0;34m(*args, **kwargs)\u001b[0m\n\u001b[1;32m    405\u001b[0m \u001b[38;5;129m@wraps\u001b[39m(f)\n\u001b[1;32m    406\u001b[0m \u001b[38;5;28;01mdef\u001b[39;00m \u001b[38;5;21mwrapper\u001b[39m(\u001b[38;5;241m*\u001b[39margs, \u001b[38;5;241m*\u001b[39m\u001b[38;5;241m*\u001b[39mkwargs):\n\u001b[1;32m    407\u001b[0m     \u001b[38;5;28;01mif\u001b[39;00m local\u001b[38;5;241m.\u001b[39m_env:\n\u001b[0;32m--> 408\u001b[0m         \u001b[38;5;28;01mreturn\u001b[39;00m \u001b[43mf\u001b[49m\u001b[43m(\u001b[49m\u001b[38;5;241;43m*\u001b[39;49m\u001b[43margs\u001b[49m\u001b[43m,\u001b[49m\u001b[43m \u001b[49m\u001b[38;5;241;43m*\u001b[39;49m\u001b[38;5;241;43m*\u001b[39;49m\u001b[43mkwargs\u001b[49m\u001b[43m)\u001b[49m\n\u001b[1;32m    409\u001b[0m     \u001b[38;5;28;01melse\u001b[39;00m:\n\u001b[1;32m    410\u001b[0m         \u001b[38;5;28;01mif\u001b[39;00m \u001b[38;5;28misinstance\u001b[39m(args[\u001b[38;5;241m0\u001b[39m], \u001b[38;5;28mstr\u001b[39m):\n",
      "File \u001b[0;32m~/opt/anaconda3/envs/uds/lib/python3.8/site-packages/fiona/__init__.py:264\u001b[0m, in \u001b[0;36mopen\u001b[0;34m(fp, mode, driver, schema, crs, encoding, layer, vfs, enabled_drivers, crs_wkt, **kwargs)\u001b[0m\n\u001b[1;32m    261\u001b[0m     path \u001b[38;5;241m=\u001b[39m parse_path(fp)\n\u001b[1;32m    263\u001b[0m \u001b[38;5;28;01mif\u001b[39;00m mode \u001b[38;5;129;01min\u001b[39;00m (\u001b[38;5;124m'\u001b[39m\u001b[38;5;124ma\u001b[39m\u001b[38;5;124m'\u001b[39m, \u001b[38;5;124m'\u001b[39m\u001b[38;5;124mr\u001b[39m\u001b[38;5;124m'\u001b[39m):\n\u001b[0;32m--> 264\u001b[0m     c \u001b[38;5;241m=\u001b[39m \u001b[43mCollection\u001b[49m\u001b[43m(\u001b[49m\u001b[43mpath\u001b[49m\u001b[43m,\u001b[49m\u001b[43m \u001b[49m\u001b[43mmode\u001b[49m\u001b[43m,\u001b[49m\u001b[43m \u001b[49m\u001b[43mdriver\u001b[49m\u001b[38;5;241;43m=\u001b[39;49m\u001b[43mdriver\u001b[49m\u001b[43m,\u001b[49m\u001b[43m \u001b[49m\u001b[43mencoding\u001b[49m\u001b[38;5;241;43m=\u001b[39;49m\u001b[43mencoding\u001b[49m\u001b[43m,\u001b[49m\n\u001b[1;32m    265\u001b[0m \u001b[43m                   \u001b[49m\u001b[43mlayer\u001b[49m\u001b[38;5;241;43m=\u001b[39;49m\u001b[43mlayer\u001b[49m\u001b[43m,\u001b[49m\u001b[43m \u001b[49m\u001b[43menabled_drivers\u001b[49m\u001b[38;5;241;43m=\u001b[39;49m\u001b[43menabled_drivers\u001b[49m\u001b[43m,\u001b[49m\u001b[43m \u001b[49m\u001b[38;5;241;43m*\u001b[39;49m\u001b[38;5;241;43m*\u001b[39;49m\u001b[43mkwargs\u001b[49m\u001b[43m)\u001b[49m\n\u001b[1;32m    266\u001b[0m \u001b[38;5;28;01melif\u001b[39;00m mode \u001b[38;5;241m==\u001b[39m \u001b[38;5;124m'\u001b[39m\u001b[38;5;124mw\u001b[39m\u001b[38;5;124m'\u001b[39m:\n\u001b[1;32m    267\u001b[0m     \u001b[38;5;28;01mif\u001b[39;00m schema:\n\u001b[1;32m    268\u001b[0m         \u001b[38;5;66;03m# Make an ordered dict of schema properties.\u001b[39;00m\n",
      "File \u001b[0;32m~/opt/anaconda3/envs/uds/lib/python3.8/site-packages/fiona/collection.py:162\u001b[0m, in \u001b[0;36mCollection.__init__\u001b[0;34m(self, path, mode, driver, schema, crs, encoding, layer, vsi, archive, enabled_drivers, crs_wkt, ignore_fields, ignore_geometry, **kwargs)\u001b[0m\n\u001b[1;32m    160\u001b[0m \u001b[38;5;28;01mif\u001b[39;00m \u001b[38;5;28mself\u001b[39m\u001b[38;5;241m.\u001b[39mmode \u001b[38;5;241m==\u001b[39m \u001b[38;5;124m'\u001b[39m\u001b[38;5;124mr\u001b[39m\u001b[38;5;124m'\u001b[39m:\n\u001b[1;32m    161\u001b[0m     \u001b[38;5;28mself\u001b[39m\u001b[38;5;241m.\u001b[39msession \u001b[38;5;241m=\u001b[39m Session()\n\u001b[0;32m--> 162\u001b[0m     \u001b[38;5;28;43mself\u001b[39;49m\u001b[38;5;241;43m.\u001b[39;49m\u001b[43msession\u001b[49m\u001b[38;5;241;43m.\u001b[39;49m\u001b[43mstart\u001b[49m\u001b[43m(\u001b[49m\u001b[38;5;28;43mself\u001b[39;49m\u001b[43m,\u001b[49m\u001b[43m \u001b[49m\u001b[38;5;241;43m*\u001b[39;49m\u001b[38;5;241;43m*\u001b[39;49m\u001b[43mkwargs\u001b[49m\u001b[43m)\u001b[49m\n\u001b[1;32m    163\u001b[0m \u001b[38;5;28;01melif\u001b[39;00m \u001b[38;5;28mself\u001b[39m\u001b[38;5;241m.\u001b[39mmode \u001b[38;5;129;01min\u001b[39;00m (\u001b[38;5;124m'\u001b[39m\u001b[38;5;124ma\u001b[39m\u001b[38;5;124m'\u001b[39m, \u001b[38;5;124m'\u001b[39m\u001b[38;5;124mw\u001b[39m\u001b[38;5;124m'\u001b[39m):\n\u001b[1;32m    164\u001b[0m     \u001b[38;5;28mself\u001b[39m\u001b[38;5;241m.\u001b[39msession \u001b[38;5;241m=\u001b[39m WritingSession()\n",
      "File \u001b[0;32mfiona/ogrext.pyx:540\u001b[0m, in \u001b[0;36mfiona.ogrext.Session.start\u001b[0;34m()\u001b[0m\n",
      "File \u001b[0;32mfiona/_shim.pyx:90\u001b[0m, in \u001b[0;36mfiona._shim.gdal_open_vector\u001b[0;34m()\u001b[0m\n",
      "\u001b[0;31mDriverError\u001b[0m: MyGeodataCloud_Public_Toilets_or_Bathrooms/toilets_point.geojson: No such file or directory"
     ]
    }
   ],
   "source": [
    "geotoiletsGdf = gpd.read_file('MyGeodataCloud_Public_Toilets_or_Bathrooms/toilets_point.geojson')"
   ]
  },
  {
   "cell_type": "code",
   "execution_count": 19,
   "id": "d02a5169",
   "metadata": {
    "scrolled": true
   },
   "outputs": [],
   "source": [
    "#parksGdf.head(2)"
   ]
  },
  {
   "cell_type": "markdown",
   "id": "392522ed",
   "metadata": {},
   "source": [
    "### Prepare data to concatonate\n",
    "First, begin with parks data"
   ]
  },
  {
   "cell_type": "code",
   "execution_count": null,
   "id": "a27672f0",
   "metadata": {},
   "outputs": [],
   "source": [
    "#drop unnecessary columns\n",
    "parksGdf = parksGdf.drop(columns=['Unnamed: 0', 'address', 'lat', 'lon'])\n"
   ]
  },
  {
   "cell_type": "code",
   "execution_count": null,
   "id": "467e76a2",
   "metadata": {},
   "outputs": [],
   "source": [
    "#add a column to specify type\n",
    "parksGdf['type'] = 'LA Parks'\n",
    "\n",
    "#rearrange columns if necessary - in this case, not necessary\n",
    "#parksGdf = parksGdf[['name', 'geometry', 'type']]"
   ]
  },
  {
   "cell_type": "code",
   "execution_count": 10,
   "id": "a4a47c25",
   "metadata": {},
   "outputs": [
    {
     "data": {
      "text/html": [
       "<div>\n",
       "<style scoped>\n",
       "    .dataframe tbody tr th:only-of-type {\n",
       "        vertical-align: middle;\n",
       "    }\n",
       "\n",
       "    .dataframe tbody tr th {\n",
       "        vertical-align: top;\n",
       "    }\n",
       "\n",
       "    .dataframe thead th {\n",
       "        text-align: right;\n",
       "    }\n",
       "</style>\n",
       "<table border=\"1\" class=\"dataframe\">\n",
       "  <thead>\n",
       "    <tr style=\"text-align: right;\">\n",
       "      <th></th>\n",
       "      <th>name</th>\n",
       "      <th>geometry</th>\n",
       "      <th>type</th>\n",
       "    </tr>\n",
       "  </thead>\n",
       "  <tbody>\n",
       "    <tr>\n",
       "      <th>0</th>\n",
       "      <td>Augustus F. Hawkins Natural Park</td>\n",
       "      <td>POINT (-118.24786 34.01386)</td>\n",
       "      <td>LA Parks</td>\n",
       "    </tr>\n",
       "    <tr>\n",
       "      <th>1</th>\n",
       "      <td>Bird Sanctuary</td>\n",
       "      <td>POINT (-118.29180 34.10518)</td>\n",
       "      <td>LA Parks</td>\n",
       "    </tr>\n",
       "    <tr>\n",
       "      <th>2</th>\n",
       "      <td>Bishop Canyon</td>\n",
       "      <td>POINT (-118.23659 34.07990)</td>\n",
       "      <td>LA Parks</td>\n",
       "    </tr>\n",
       "    <tr>\n",
       "      <th>4</th>\n",
       "      <td>Branford Recreation Center</td>\n",
       "      <td>POINT (-118.42319 34.23351)</td>\n",
       "      <td>LA Parks</td>\n",
       "    </tr>\n",
       "    <tr>\n",
       "      <th>6</th>\n",
       "      <td>Chavez Ravine Arboretum</td>\n",
       "      <td>POINT (-118.24115 34.06665)</td>\n",
       "      <td>LA Parks</td>\n",
       "    </tr>\n",
       "  </tbody>\n",
       "</table>\n",
       "</div>"
      ],
      "text/plain": [
       "                               name                     geometry      type\n",
       "0  Augustus F. Hawkins Natural Park  POINT (-118.24786 34.01386)  LA Parks\n",
       "1                    Bird Sanctuary  POINT (-118.29180 34.10518)  LA Parks\n",
       "2                     Bishop Canyon  POINT (-118.23659 34.07990)  LA Parks\n",
       "4        Branford Recreation Center  POINT (-118.42319 34.23351)  LA Parks\n",
       "6           Chavez Ravine Arboretum  POINT (-118.24115 34.06665)  LA Parks"
      ]
     },
     "execution_count": 10,
     "metadata": {},
     "output_type": "execute_result"
    }
   ],
   "source": [
    "parks.head()"
   ]
  },
  {
   "cell_type": "code",
   "execution_count": 12,
   "id": "432f4f31",
   "metadata": {},
   "outputs": [],
   "source": [
    "#drop unnecessary columns from LACAN\n",
    "lacanGdf = lacanGdf.drop(columns=['X', 'Y', 'description', 'gx_media_links'])"
   ]
  },
  {
   "cell_type": "code",
   "execution_count": 13,
   "id": "2bcd5831",
   "metadata": {},
   "outputs": [],
   "source": [
    "#rearrange columns\n",
    "lacanGdf = lacanGdf[['name', 'geometry', 'type']]"
   ]
  },
  {
   "cell_type": "markdown",
   "id": "33036cda",
   "metadata": {},
   "source": [
    "### Concatenate"
   ]
  },
  {
   "cell_type": "code",
   "execution_count": 14,
   "id": "debde0a3",
   "metadata": {},
   "outputs": [],
   "source": [
    "#concatenate the two gdfs\n",
    "lacanparks = pd.concat([parksGdf, lacanGdf], axis=0)"
   ]
  },
  {
   "cell_type": "code",
   "execution_count": 15,
   "id": "e43a183b",
   "metadata": {},
   "outputs": [
    {
     "name": "stdout",
     "output_type": "stream",
     "text": [
      "<class 'geopandas.geodataframe.GeoDataFrame'>\n",
      "Int64Index: 283 entries, 0 to 255\n",
      "Data columns (total 3 columns):\n",
      " #   Column    Non-Null Count  Dtype   \n",
      "---  ------    --------------  -----   \n",
      " 0   name      283 non-null    object  \n",
      " 1   geometry  283 non-null    geometry\n",
      " 2   type      283 non-null    object  \n",
      "dtypes: geometry(1), object(2)\n",
      "memory usage: 8.8+ KB\n"
     ]
    }
   ],
   "source": [
    "lacanparks.info()"
   ]
  },
  {
   "cell_type": "code",
   "execution_count": null,
   "id": "fdab0b77",
   "metadata": {},
   "outputs": [],
   "source": []
  },
  {
   "cell_type": "code",
   "execution_count": null,
   "id": "4c38df66",
   "metadata": {},
   "outputs": [],
   "source": []
  },
  {
   "cell_type": "code",
   "execution_count": null,
   "id": "b221a9b8",
   "metadata": {},
   "outputs": [],
   "source": []
  },
  {
   "cell_type": "code",
   "execution_count": null,
   "id": "ce90fbc5",
   "metadata": {},
   "outputs": [],
   "source": []
  },
  {
   "cell_type": "code",
   "execution_count": null,
   "id": "7116f452",
   "metadata": {},
   "outputs": [],
   "source": []
  },
  {
   "cell_type": "code",
   "execution_count": null,
   "id": "cb5ba740",
   "metadata": {},
   "outputs": [],
   "source": []
  },
  {
   "cell_type": "code",
   "execution_count": null,
   "id": "62cd0197",
   "metadata": {},
   "outputs": [],
   "source": []
  },
  {
   "cell_type": "code",
   "execution_count": null,
   "id": "2ba21718",
   "metadata": {},
   "outputs": [],
   "source": []
  },
  {
   "cell_type": "code",
   "execution_count": null,
   "id": "e55d2ed6",
   "metadata": {},
   "outputs": [],
   "source": []
  },
  {
   "cell_type": "code",
   "execution_count": null,
   "id": "048b8667",
   "metadata": {},
   "outputs": [],
   "source": [
    "fig, ax = plt.subplots(figsize=(20,20))\n",
    "\n",
    "# add the layer with ax=ax in the argument \n",
    "parksGdf.plot(ax=ax,\n",
    "               color='r'\n",
    "              )\n",
    "\n",
    "# add a basemap\n",
    "ctx.add_basemap (ax,source=ctx.providers.CartoDB.Positron)"
   ]
  },
  {
   "cell_type": "code",
   "execution_count": null,
   "id": "b34e2c3b",
   "metadata": {},
   "outputs": [],
   "source": []
  },
  {
   "cell_type": "code",
   "execution_count": null,
   "id": "895fe5f0",
   "metadata": {},
   "outputs": [],
   "source": []
  },
  {
   "cell_type": "markdown",
   "id": "e8f1d153",
   "metadata": {},
   "source": [
    "## Section 1. Attempts to scrape restroom data from LA Parks\n",
    "\n",
    "I'm mostly trying to follow the lecture notebook for '7 Scraping Craigslist'"
   ]
  },
  {
   "cell_type": "code",
   "execution_count": null,
   "id": "b02fe022",
   "metadata": {},
   "outputs": [],
   "source": [
    "# using the laparks.org page for Gladys Park which I confirmed has restrooms\n",
    "import requests\n",
    "from bs4 import BeautifulSoup\n",
    "\n",
    "url = 'https://www.laparks.org/park/6th-gladys-street'\n",
    "r = requests.get(url)\n",
    "\n",
    "soup = BeautifulSoup(r.content)\n",
    "print(soup.prettify())\n"
   ]
  },
  {
   "cell_type": "code",
   "execution_count": null,
   "id": "39b31dd6",
   "metadata": {},
   "outputs": [],
   "source": [
    "restrooms = soup.find_all(class_ = 'field field-name-field-public-info field-type-text-long field-label-above')\n",
    "print(len(restrooms))"
   ]
  },
  {
   "cell_type": "code",
   "execution_count": null,
   "id": "ef9690e4",
   "metadata": {},
   "outputs": [],
   "source": [
    "restrooms[0]"
   ]
  },
  {
   "cell_type": "code",
   "execution_count": null,
   "id": "d399b93a",
   "metadata": {},
   "outputs": [],
   "source": [
    "print(restrooms[0].find('div', class_= 'field-item even').text)"
   ]
  },
  {
   "cell_type": "code",
   "execution_count": null,
   "id": "c035838b",
   "metadata": {},
   "outputs": [],
   "source": [
    "hours = soup.find_all(class_ = 'field field-name-field-hours-of-operation field-type-text-long field-label-above')\n",
    "print(len(hours))"
   ]
  },
  {
   "cell_type": "code",
   "execution_count": null,
   "id": "c4426835",
   "metadata": {},
   "outputs": [],
   "source": [
    "print(hours[0].find('div', class_= 'field-item even').text)"
   ]
  },
  {
   "cell_type": "code",
   "execution_count": null,
   "id": "04127000",
   "metadata": {},
   "outputs": [],
   "source": [
    "# skipped a step in the lecture notebook about getting the URL\n",
    "#will have to come back to it"
   ]
  },
  {
   "cell_type": "code",
   "execution_count": null,
   "id": "550c4e14",
   "metadata": {},
   "outputs": [],
   "source": [
    "import pandas as pd\n",
    "restroomList = [] # empty list that we can append to\n",
    "\n",
    "for restroom in restrooms:"
   ]
  },
  {
   "cell_type": "markdown",
   "id": "8c2387e4",
   "metadata": {},
   "source": [
    "## Section 1.2 More Park stuff"
   ]
  },
  {
   "cell_type": "code",
   "execution_count": null,
   "id": "6309d346",
   "metadata": {},
   "outputs": [],
   "source": [
    "park_url = 'https://www.laparks.org/park/encino'\n",
    "r = requests.get(park_url)\n",
    "soup = BeautifulSoup(r.content)\n",
    "print(soup.prettify())"
   ]
  },
  {
   "cell_type": "code",
   "execution_count": null,
   "id": "257d2ece",
   "metadata": {},
   "outputs": [],
   "source": [
    "restrooms = soup.find_all(class_= 'field-label')\n",
    "print (len(restrooms))"
   ]
  },
  {
   "cell_type": "code",
   "execution_count": null,
   "id": "d419cf5f",
   "metadata": {},
   "outputs": [],
   "source": [
    "restrooms [0]"
   ]
  },
  {
   "cell_type": "code",
   "execution_count": null,
   "id": "5a467acc",
   "metadata": {},
   "outputs": [],
   "source": [
    "restrooms [1]"
   ]
  },
  {
   "cell_type": "code",
   "execution_count": null,
   "id": "159e8103",
   "metadata": {},
   "outputs": [],
   "source": [
    "restrooms[2]"
   ]
  },
  {
   "cell_type": "code",
   "execution_count": null,
   "id": "a09cd9cf",
   "metadata": {},
   "outputs": [],
   "source": [
    "restrooms [3]"
   ]
  },
  {
   "cell_type": "code",
   "execution_count": null,
   "id": "be4ae784",
   "metadata": {},
   "outputs": [],
   "source": [
    "restrooms [4]"
   ]
  },
  {
   "cell_type": "code",
   "execution_count": null,
   "id": "c85dcf80",
   "metadata": {},
   "outputs": [],
   "source": [
    "restrooms[5]"
   ]
  },
  {
   "cell_type": "code",
   "execution_count": null,
   "id": "cd165bc5",
   "metadata": {},
   "outputs": [],
   "source": [
    "restrooms[6]"
   ]
  },
  {
   "cell_type": "code",
   "execution_count": null,
   "id": "35fa6d85",
   "metadata": {},
   "outputs": [],
   "source": [
    "restrooms [7]"
   ]
  },
  {
   "cell_type": "code",
   "execution_count": null,
   "id": "846924ac",
   "metadata": {},
   "outputs": [],
   "source": [
    "restrooms[8]"
   ]
  },
  {
   "cell_type": "code",
   "execution_count": null,
   "id": "59b49919",
   "metadata": {},
   "outputs": [],
   "source": [
    "print(restrooms[6].find('div', class_= 'field-label').text)"
   ]
  },
  {
   "cell_type": "code",
   "execution_count": null,
   "id": "d366812d",
   "metadata": {},
   "outputs": [],
   "source": [
    "libraries = 'https://lapl.org/branches'\n",
    "rlibraries = requests.get(libraries)\n",
    "soup = BeautifulSoup(rlibraries.content)\n",
    "print(soup.prettify())"
   ]
  },
  {
   "cell_type": "code",
   "execution_count": null,
   "id": "a7147c3b",
   "metadata": {},
   "outputs": [],
   "source": []
  },
  {
   "cell_type": "code",
   "execution_count": null,
   "id": "76332cab",
   "metadata": {},
   "outputs": [],
   "source": []
  },
  {
   "cell_type": "markdown",
   "id": "91e9a204",
   "metadata": {},
   "source": [
    "## Section 3. County Library Data API"
   ]
  },
  {
   "cell_type": "code",
   "execution_count": null,
   "id": "c2f9a52a",
   "metadata": {},
   "outputs": [],
   "source": [
    "#First I will create a pandas dataframe (countylib) of all LA County Library locations, including their name, hours, and the other information that is returned from the branch information API.\n",
    "\n",
    "import pandas as pd\n",
    "from sodapy import Socrata\n",
    "\n",
    "# Unauthenticated client only works with public data sets. Note 'None'\n",
    "# in place of application token, and no username or password:\n",
    "client = Socrata(\"data.lacity.org\", None)\n",
    "\n",
    "results = client.get(\"a4nt-4gca\", limit=2000)\n",
    "\n",
    "countylib = pd.DataFrame.from_records(results)"
   ]
  },
  {
   "cell_type": "code",
   "execution_count": null,
   "id": "980103cb",
   "metadata": {},
   "outputs": [],
   "source": [
    "countylib.info()"
   ]
  },
  {
   "cell_type": "code",
   "execution_count": null,
   "id": "a3c74340",
   "metadata": {},
   "outputs": [],
   "source": [
    "#geojson\n",
    "import json\n",
    "import requests\n",
    "import pandas as pd\n",
    "\n",
    "r = requests.get('https://data.lacounty.gov/resource/nrtn-ga3s.geojson')\n",
    "library = r.json()\n",
    "df = pd.DataFrame(censusdata[1:], columns=censusdata[0])\n",
    "df.head()\n",
    "https://data.lacounty.gov/resource/nrtn-ga3s.geojson"
   ]
  },
  {
   "cell_type": "code",
   "execution_count": null,
   "id": "371b8a95",
   "metadata": {},
   "outputs": [],
   "source": [
    "#!/usr/bin/env python\n",
    "\n",
    "# make sure to install these packages before running:\n",
    "# pip install pandas\n",
    "# pip install sodapy\n",
    "\n",
    "import pandas as pd\n",
    "from sodapy import Socrata\n",
    "\n",
    "# Unauthenticated client only works with public data sets. Note 'None'\n",
    "# in place of application token, and no username or password:\n",
    "client = Socrata(\"data.lacounty.gov\", None)\n",
    "\n",
    "# Example authenticated client (needed for non-public datasets):\n",
    "# client = Socrata(data.lacounty.gov,\n",
    "#                  MyAppToken,\n",
    "#                  userame=\"user@example.com\",\n",
    "#                  password=\"AFakePassword\")\n",
    "\n",
    "# First 2000 results, returned as JSON from API / converted to Python list of\n",
    "# dictionaries by sodapy.\n",
    "results = client.get(\"nrtn-ga3s\", limit=2000)\n",
    "\n",
    "# Convert to pandas DataFrame\n",
    "results_df = pd.DataFrame.from_records(results)"
   ]
  },
  {
   "cell_type": "code",
   "execution_count": null,
   "id": "d17f8141",
   "metadata": {},
   "outputs": [],
   "source": [
    "results_df.info()"
   ]
  },
  {
   "cell_type": "code",
   "execution_count": null,
   "id": "6a9f39b6",
   "metadata": {},
   "outputs": [],
   "source": [
    "results_df.head()"
   ]
  },
  {
   "cell_type": "code",
   "execution_count": null,
   "id": "42fa6893",
   "metadata": {},
   "outputs": [],
   "source": []
  }
 ],
 "metadata": {
  "kernelspec": {
   "display_name": "Python 3 (ipykernel)",
   "language": "python",
   "name": "python3"
  },
  "language_info": {
   "codemirror_mode": {
    "name": "ipython",
    "version": 3
   },
   "file_extension": ".py",
   "mimetype": "text/x-python",
   "name": "python",
   "nbconvert_exporter": "python",
   "pygments_lexer": "ipython3",
   "version": "3.8.13"
  }
 },
 "nbformat": 4,
 "nbformat_minor": 5
}
