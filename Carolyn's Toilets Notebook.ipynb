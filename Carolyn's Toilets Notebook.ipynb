{
 "cells": [
  {
   "cell_type": "markdown",
   "id": "0b401524",
   "metadata": {},
   "source": [
    "# Carolyn's scratch notebook to work through toilet data\n"
   ]
  },
  {
   "cell_type": "code",
   "execution_count": 1,
   "id": "2e0e4c48",
   "metadata": {},
   "outputs": [],
   "source": [
    "#load libraries\n",
    "\n",
    "import pandas as pd\n",
    "import geopandas as gpd\n",
    "import contextily as ctx\n",
    "import matplotlib.pyplot as plt"
   ]
  },
  {
   "cell_type": "markdown",
   "id": "59a92777",
   "metadata": {},
   "source": [
    "### Import Data from LA Parks and LA CAN"
   ]
  },
  {
   "cell_type": "code",
   "execution_count": 2,
   "id": "ed134dcf",
   "metadata": {},
   "outputs": [],
   "source": [
    "# upload park bathroom data\n",
    "parks = pd.read_csv('MiscData/parkslatlon.csv')\n",
    "\n",
    "#upload LACan bathroom, handwashing stations, etc data\n",
    "lacan = pd.read_csv('LACAN Data/allstations_LACAN.csv')"
   ]
  },
  {
   "cell_type": "code",
   "execution_count": 3,
   "id": "5f046dfa",
   "metadata": {},
   "outputs": [],
   "source": [
    "# convert to geodataframes and project\n",
    "parksGdf = gpd.GeoDataFrame(parks, geometry=gpd.points_from_xy(parks.lon, parks.lat, \n",
    "                                                               crs='EPSG:3857'))\n",
    "\n",
    "lacanGdf = gpd.GeoDataFrame(lacan, geometry=gpd.points_from_xy(lacan.X, lacan.Y, \n",
    "                                                               crs='EPSG:3857'))"
   ]
  },
  {
   "cell_type": "markdown",
   "id": "2f31ace8",
   "metadata": {},
   "source": [
    "### Prepare data to concatonate\n",
    "First, begin with parks data. Drop unnecessary columns and add a column to label it as 'LA Parks' so we know where that data come from."
   ]
  },
  {
   "cell_type": "code",
   "execution_count": 4,
   "id": "a2791dfe",
   "metadata": {},
   "outputs": [],
   "source": [
    "#drop unnecessary columns\n",
    "parksGdf = parksGdf.drop(columns=['Unnamed: 0', 'address', 'lat', 'lon'])\n"
   ]
  },
  {
   "cell_type": "code",
   "execution_count": 5,
   "id": "2476e11e",
   "metadata": {},
   "outputs": [],
   "source": [
    "#add a column to specify type\n",
    "parksGdf['type'] = 'LA Parks'\n",
    "\n",
    "#rearrange columns if necessary - in this case, not necessary\n",
    "#parksGdf = parksGdf[['name', 'geometry', 'type']]"
   ]
  },
  {
   "cell_type": "code",
   "execution_count": 6,
   "id": "bea87066",
   "metadata": {},
   "outputs": [
    {
     "data": {
      "text/html": [
       "<div>\n",
       "<style scoped>\n",
       "    .dataframe tbody tr th:only-of-type {\n",
       "        vertical-align: middle;\n",
       "    }\n",
       "\n",
       "    .dataframe tbody tr th {\n",
       "        vertical-align: top;\n",
       "    }\n",
       "\n",
       "    .dataframe thead th {\n",
       "        text-align: right;\n",
       "    }\n",
       "</style>\n",
       "<table border=\"1\" class=\"dataframe\">\n",
       "  <thead>\n",
       "    <tr style=\"text-align: right;\">\n",
       "      <th></th>\n",
       "      <th>Unnamed: 0</th>\n",
       "      <th>name</th>\n",
       "      <th>address</th>\n",
       "      <th>lat</th>\n",
       "      <th>lon</th>\n",
       "      <th>geometry</th>\n",
       "    </tr>\n",
       "  </thead>\n",
       "  <tbody>\n",
       "    <tr>\n",
       "      <th>0</th>\n",
       "      <td>0</td>\n",
       "      <td>Augustus F. Hawkins Natural Park</td>\n",
       "      <td>57905790 Compton Ave., Los Angeles, CA 90011</td>\n",
       "      <td>34.013860</td>\n",
       "      <td>-118.247864</td>\n",
       "      <td>POINT (-118.248 34.014)</td>\n",
       "    </tr>\n",
       "    <tr>\n",
       "      <th>1</th>\n",
       "      <td>1</td>\n",
       "      <td>Bird Sanctuary</td>\n",
       "      <td>2900 N. Vermont Ave., Los Angeles, CA 90027</td>\n",
       "      <td>34.105176</td>\n",
       "      <td>-118.291805</td>\n",
       "      <td>POINT (-118.292 34.105)</td>\n",
       "    </tr>\n",
       "    <tr>\n",
       "      <th>2</th>\n",
       "      <td>2</td>\n",
       "      <td>Bishop Canyon</td>\n",
       "      <td>929 Academy Rd., Los Angeles, CA 90012</td>\n",
       "      <td>34.079904</td>\n",
       "      <td>-118.236590</td>\n",
       "      <td>POINT (-118.237 34.080)</td>\n",
       "    </tr>\n",
       "    <tr>\n",
       "      <th>3</th>\n",
       "      <td>3</td>\n",
       "      <td>Brand Park</td>\n",
       "      <td>15174 San Fernando Mission Rd., Mission Hills,...</td>\n",
       "      <td>34.272294</td>\n",
       "      <td>-118.461158</td>\n",
       "      <td>POINT (-118.461 34.272)</td>\n",
       "    </tr>\n",
       "    <tr>\n",
       "      <th>4</th>\n",
       "      <td>4</td>\n",
       "      <td>Branford Recreation Center</td>\n",
       "      <td>13306 Branford Street, Arleta, CA 91331</td>\n",
       "      <td>34.233507</td>\n",
       "      <td>-118.423193</td>\n",
       "      <td>POINT (-118.423 34.234)</td>\n",
       "    </tr>\n",
       "  </tbody>\n",
       "</table>\n",
       "</div>"
      ],
      "text/plain": [
       "   Unnamed: 0                              name  \\\n",
       "0           0  Augustus F. Hawkins Natural Park   \n",
       "1           1                    Bird Sanctuary   \n",
       "2           2                     Bishop Canyon   \n",
       "3           3                        Brand Park   \n",
       "4           4        Branford Recreation Center   \n",
       "\n",
       "                                             address        lat         lon  \\\n",
       "0       57905790 Compton Ave., Los Angeles, CA 90011  34.013860 -118.247864   \n",
       "1        2900 N. Vermont Ave., Los Angeles, CA 90027  34.105176 -118.291805   \n",
       "2             929 Academy Rd., Los Angeles, CA 90012  34.079904 -118.236590   \n",
       "3  15174 San Fernando Mission Rd., Mission Hills,...  34.272294 -118.461158   \n",
       "4            13306 Branford Street, Arleta, CA 91331  34.233507 -118.423193   \n",
       "\n",
       "                  geometry  \n",
       "0  POINT (-118.248 34.014)  \n",
       "1  POINT (-118.292 34.105)  \n",
       "2  POINT (-118.237 34.080)  \n",
       "3  POINT (-118.461 34.272)  \n",
       "4  POINT (-118.423 34.234)  "
      ]
     },
     "execution_count": 6,
     "metadata": {},
     "output_type": "execute_result"
    }
   ],
   "source": [
    "parks.head()"
   ]
  },
  {
   "cell_type": "code",
   "execution_count": 7,
   "id": "636f402e",
   "metadata": {},
   "outputs": [],
   "source": [
    "#drop unnecessary columns from LACAN\n",
    "lacanGdf = lacanGdf.drop(columns=['X', 'Y', 'description', 'gx_media_links'])"
   ]
  },
  {
   "cell_type": "code",
   "execution_count": 8,
   "id": "216759c7",
   "metadata": {},
   "outputs": [],
   "source": [
    "#rearrange columns\n",
    "lacanGdf = lacanGdf[['name', 'geometry', 'type']]"
   ]
  },
  {
   "cell_type": "markdown",
   "id": "d9c461ef",
   "metadata": {},
   "source": [
    "### Concatenate"
   ]
  },
  {
   "cell_type": "code",
   "execution_count": 9,
   "id": "4034dea3",
   "metadata": {},
   "outputs": [],
   "source": [
    "#concatenate the two gdfs\n",
    "lacanparks = pd.concat([parksGdf, lacanGdf], axis=0)"
   ]
  },
  {
   "cell_type": "code",
   "execution_count": 10,
   "id": "092dd3d3",
   "metadata": {},
   "outputs": [
    {
     "name": "stdout",
     "output_type": "stream",
     "text": [
      "<class 'geopandas.geodataframe.GeoDataFrame'>\n",
      "Int64Index: 291 entries, 0 to 255\n",
      "Data columns (total 3 columns):\n",
      " #   Column    Non-Null Count  Dtype   \n",
      "---  ------    --------------  -----   \n",
      " 0   name      291 non-null    object  \n",
      " 1   geometry  291 non-null    geometry\n",
      " 2   type      291 non-null    object  \n",
      "dtypes: geometry(1), object(2)\n",
      "memory usage: 9.1+ KB\n"
     ]
    }
   ],
   "source": [
    "lacanparks.info()"
   ]
  },
  {
   "cell_type": "code",
   "execution_count": 11,
   "id": "e740aecc",
   "metadata": {},
   "outputs": [],
   "source": [
    "lacanparks = lacanparks.to_crs('EPSG:3857')"
   ]
  },
  {
   "cell_type": "code",
   "execution_count": null,
   "id": "eb642617",
   "metadata": {},
   "outputs": [],
   "source": [
    "\n",
    "lacanparks.crs"
   ]
  },
  {
   "cell_type": "code",
   "execution_count": null,
   "id": "2f343238",
   "metadata": {},
   "outputs": [],
   "source": [
    "import contextily as ctx\n",
    "import matplotlib.pyplot as plt\n",
    "\n",
    "fig,ax = plt.subplots(figsize=(12,12))\n",
    "\n",
    "lacanparks.plot(ax=ax,\n",
    "             color='red',\n",
    "             markersize=1)\n",
    "\n",
    "# no axis\n",
    "#ax.axis('off')\n",
    "\n",
    "# add a basemap\n",
    "ctx.add_basemap (ax, zoom=5, source=ctx.providers.CartoDB.Positron)"
   ]
  },
  {
   "cell_type": "markdown",
   "id": "194ee5d0",
   "metadata": {},
   "source": [
    "### Save a geojson file of my gdf"
   ]
  },
  {
   "cell_type": "code",
   "execution_count": 14,
   "id": "4efa7d8d",
   "metadata": {
    "scrolled": true
   },
   "outputs": [
    {
     "name": "stderr",
     "output_type": "stream",
     "text": [
      "/Users/carolynchu/opt/anaconda3/envs/uds/lib/python3.8/site-packages/geopandas/io/file.py:362: FutureWarning: pandas.Int64Index is deprecated and will be removed from pandas in a future version. Use pandas.Index with the appropriate dtype instead.\n",
      "  pd.Int64Index,\n"
     ]
    }
   ],
   "source": [
    "import fiona\n",
    "lacanparks.to_file(\"toilets.geojson\", driver='GeoJSON')"
   ]
  },
  {
   "cell_type": "markdown",
   "id": "09def3af",
   "metadata": {},
   "source": [
    "### Imported data from the \"MyGeodataCloud\" website\n",
    "\n",
    "I imported and looked at this dataset that welisted in our original proposal. While there were many points, they were not well-defined. We didn't understand where this toilet data came from, who managed those restrooms, etc. Wee ultimately decided not to include it in our final dataset."
   ]
  },
  {
   "cell_type": "code",
   "execution_count": null,
   "id": "d97cc148",
   "metadata": {},
   "outputs": [],
   "source": [
    "#geotoiletsGdf = gpd.read_file('MyGeodataCloud_data/toilets_point.geojson')"
   ]
  },
  {
   "cell_type": "code",
   "execution_count": null,
   "id": "f6a272e3",
   "metadata": {},
   "outputs": [],
   "source": [
    "#geotoiletsGdf.info()"
   ]
  },
  {
   "cell_type": "code",
   "execution_count": null,
   "id": "719b8200",
   "metadata": {},
   "outputs": [],
   "source": [
    "#geotoiletsGdf.head()"
   ]
  },
  {
   "cell_type": "markdown",
   "id": "90cb3f7b",
   "metadata": {},
   "source": [
    "### Mapping the toilets\n",
    "I tried mapping the data we do have. I think there's an issue with the projection...the contextily basemap isn't loading. >:("
   ]
  },
  {
   "cell_type": "code",
   "execution_count": null,
   "id": "0c637620",
   "metadata": {},
   "outputs": [],
   "source": [
    "fig, ax = plt.subplots(figsize=(20,20))\n",
    "\n",
    "# add the layer with ax=ax in the argument \n",
    "parksGdf.plot(ax=ax,\n",
    "               color='r'\n",
    "              )\n",
    "\n",
    "# add a basemap\n",
    "ctx.add_basemap (ax,source=ctx.providers.CartoDB.Positron)"
   ]
  },
  {
   "cell_type": "markdown",
   "id": "787f2c7a",
   "metadata": {},
   "source": [
    "## wasteland of code\n",
    "I initially tried scraping the LA Parks website to no avail. Ultimately I went with a much simpler path with "
   ]
  },
  {
   "cell_type": "markdown",
   "id": "e8f1d153",
   "metadata": {},
   "source": [
    "## Section 1. Attempts to scrape restroom data from LA Parks\n",
    "\n",
    "I'm mostly trying to follow the lecture notebook for '7 Scraping Craigslist'"
   ]
  },
  {
   "cell_type": "code",
   "execution_count": null,
   "id": "b02fe022",
   "metadata": {},
   "outputs": [],
   "source": [
    "# using the laparks.org page for Gladys Park which I confirmed has restrooms\n",
    "import requests\n",
    "from bs4 import BeautifulSoup\n",
    "\n",
    "url = 'https://www.laparks.org/park/6th-gladys-street'\n",
    "r = requests.get(url)\n",
    "\n",
    "soup = BeautifulSoup(r.content)\n",
    "print(soup.prettify())\n"
   ]
  },
  {
   "cell_type": "code",
   "execution_count": null,
   "id": "39b31dd6",
   "metadata": {},
   "outputs": [],
   "source": [
    "restrooms = soup.find_all(class_ = 'field field-name-field-public-info field-type-text-long field-label-above')\n",
    "print(len(restrooms))"
   ]
  },
  {
   "cell_type": "code",
   "execution_count": null,
   "id": "ef9690e4",
   "metadata": {},
   "outputs": [],
   "source": [
    "restrooms[0]"
   ]
  },
  {
   "cell_type": "code",
   "execution_count": null,
   "id": "d399b93a",
   "metadata": {},
   "outputs": [],
   "source": [
    "print(restrooms[0].find('div', class_= 'field-item even').text)"
   ]
  },
  {
   "cell_type": "code",
   "execution_count": null,
   "id": "c035838b",
   "metadata": {},
   "outputs": [],
   "source": [
    "hours = soup.find_all(class_ = 'field field-name-field-hours-of-operation field-type-text-long field-label-above')\n",
    "print(len(hours))"
   ]
  },
  {
   "cell_type": "code",
   "execution_count": null,
   "id": "c4426835",
   "metadata": {},
   "outputs": [],
   "source": [
    "print(hours[0].find('div', class_= 'field-item even').text)"
   ]
  },
  {
   "cell_type": "code",
   "execution_count": null,
   "id": "04127000",
   "metadata": {},
   "outputs": [],
   "source": [
    "# skipped a step in the lecture notebook about getting the URL\n",
    "#will have to come back to it"
   ]
  },
  {
   "cell_type": "code",
   "execution_count": null,
   "id": "550c4e14",
   "metadata": {},
   "outputs": [],
   "source": [
    "import pandas as pd\n",
    "restroomList = [] # empty list that we can append to\n",
    "\n",
    "for restroom in restrooms:"
   ]
  },
  {
   "cell_type": "markdown",
   "id": "8c2387e4",
   "metadata": {},
   "source": [
    "## Section 1.2 More Park stuff"
   ]
  },
  {
   "cell_type": "code",
   "execution_count": null,
   "id": "6309d346",
   "metadata": {},
   "outputs": [],
   "source": [
    "park_url = 'https://www.laparks.org/park/encino'\n",
    "r = requests.get(park_url)\n",
    "soup = BeautifulSoup(r.content)\n",
    "print(soup.prettify())"
   ]
  },
  {
   "cell_type": "code",
   "execution_count": null,
   "id": "257d2ece",
   "metadata": {},
   "outputs": [],
   "source": [
    "restrooms = soup.find_all(class_= 'field-label')\n",
    "print (len(restrooms))"
   ]
  },
  {
   "cell_type": "code",
   "execution_count": null,
   "id": "d419cf5f",
   "metadata": {},
   "outputs": [],
   "source": [
    "restrooms [0]"
   ]
  },
  {
   "cell_type": "code",
   "execution_count": null,
   "id": "5a467acc",
   "metadata": {},
   "outputs": [],
   "source": [
    "restrooms [1]"
   ]
  },
  {
   "cell_type": "code",
   "execution_count": null,
   "id": "159e8103",
   "metadata": {},
   "outputs": [],
   "source": [
    "restrooms[2]"
   ]
  },
  {
   "cell_type": "code",
   "execution_count": null,
   "id": "a09cd9cf",
   "metadata": {},
   "outputs": [],
   "source": [
    "restrooms [3]"
   ]
  },
  {
   "cell_type": "code",
   "execution_count": null,
   "id": "be4ae784",
   "metadata": {},
   "outputs": [],
   "source": [
    "restrooms [4]"
   ]
  },
  {
   "cell_type": "code",
   "execution_count": null,
   "id": "c85dcf80",
   "metadata": {},
   "outputs": [],
   "source": [
    "restrooms[5]"
   ]
  },
  {
   "cell_type": "code",
   "execution_count": null,
   "id": "cd165bc5",
   "metadata": {},
   "outputs": [],
   "source": [
    "restrooms[6]"
   ]
  },
  {
   "cell_type": "code",
   "execution_count": null,
   "id": "35fa6d85",
   "metadata": {},
   "outputs": [],
   "source": [
    "restrooms [7]"
   ]
  },
  {
   "cell_type": "code",
   "execution_count": null,
   "id": "846924ac",
   "metadata": {},
   "outputs": [],
   "source": [
    "restrooms[8]"
   ]
  },
  {
   "cell_type": "code",
   "execution_count": null,
   "id": "59b49919",
   "metadata": {},
   "outputs": [],
   "source": [
    "print(restrooms[6].find('div', class_= 'field-label').text)"
   ]
  },
  {
   "cell_type": "code",
   "execution_count": null,
   "id": "d366812d",
   "metadata": {},
   "outputs": [],
   "source": [
    "libraries = 'https://lapl.org/branches'\n",
    "rlibraries = requests.get(libraries)\n",
    "soup = BeautifulSoup(rlibraries.content)\n",
    "print(soup.prettify())"
   ]
  },
  {
   "cell_type": "code",
   "execution_count": null,
   "id": "a7147c3b",
   "metadata": {},
   "outputs": [],
   "source": []
  },
  {
   "cell_type": "code",
   "execution_count": null,
   "id": "76332cab",
   "metadata": {},
   "outputs": [],
   "source": []
  },
  {
   "cell_type": "markdown",
   "id": "91e9a204",
   "metadata": {},
   "source": [
    "## Section 3. County Library Data API"
   ]
  },
  {
   "cell_type": "code",
   "execution_count": null,
   "id": "c2f9a52a",
   "metadata": {},
   "outputs": [],
   "source": [
    "#First I will create a pandas dataframe (countylib) of all LA County Library locations, including their name, hours, and the other information that is returned from the branch information API.\n",
    "\n",
    "import pandas as pd\n",
    "from sodapy import Socrata\n",
    "\n",
    "# Unauthenticated client only works with public data sets. Note 'None'\n",
    "# in place of application token, and no username or password:\n",
    "client = Socrata(\"data.lacity.org\", None)\n",
    "\n",
    "results = client.get(\"a4nt-4gca\", limit=2000)\n",
    "\n",
    "countylib = pd.DataFrame.from_records(results)"
   ]
  },
  {
   "cell_type": "code",
   "execution_count": null,
   "id": "980103cb",
   "metadata": {},
   "outputs": [],
   "source": [
    "countylib.info()"
   ]
  },
  {
   "cell_type": "code",
   "execution_count": null,
   "id": "a3c74340",
   "metadata": {},
   "outputs": [],
   "source": [
    "#geojson\n",
    "import json\n",
    "import requests\n",
    "import pandas as pd\n",
    "\n",
    "r = requests.get('https://data.lacounty.gov/resource/nrtn-ga3s.geojson')\n",
    "library = r.json()\n",
    "df = pd.DataFrame(censusdata[1:], columns=censusdata[0])\n",
    "df.head()\n",
    "https://data.lacounty.gov/resource/nrtn-ga3s.geojson"
   ]
  },
  {
   "cell_type": "code",
   "execution_count": null,
   "id": "371b8a95",
   "metadata": {},
   "outputs": [],
   "source": [
    "#!/usr/bin/env python\n",
    "\n",
    "# make sure to install these packages before running:\n",
    "# pip install pandas\n",
    "# pip install sodapy\n",
    "\n",
    "import pandas as pd\n",
    "from sodapy import Socrata\n",
    "\n",
    "# Unauthenticated client only works with public data sets. Note 'None'\n",
    "# in place of application token, and no username or password:\n",
    "client = Socrata(\"data.lacounty.gov\", None)\n",
    "\n",
    "# Example authenticated client (needed for non-public datasets):\n",
    "# client = Socrata(data.lacounty.gov,\n",
    "#                  MyAppToken,\n",
    "#                  userame=\"user@example.com\",\n",
    "#                  password=\"AFakePassword\")\n",
    "\n",
    "# First 2000 results, returned as JSON from API / converted to Python list of\n",
    "# dictionaries by sodapy.\n",
    "results = client.get(\"nrtn-ga3s\", limit=2000)\n",
    "\n",
    "# Convert to pandas DataFrame\n",
    "results_df = pd.DataFrame.from_records(results)"
   ]
  },
  {
   "cell_type": "code",
   "execution_count": null,
   "id": "d17f8141",
   "metadata": {},
   "outputs": [],
   "source": [
    "results_df.info()"
   ]
  },
  {
   "cell_type": "code",
   "execution_count": null,
   "id": "6a9f39b6",
   "metadata": {},
   "outputs": [],
   "source": [
    "results_df.head()"
   ]
  },
  {
   "cell_type": "code",
   "execution_count": null,
   "id": "42fa6893",
   "metadata": {},
   "outputs": [],
   "source": []
  }
 ],
 "metadata": {
  "kernelspec": {
   "display_name": "Python 3 (ipykernel)",
   "language": "python",
   "name": "python3"
  },
  "language_info": {
   "codemirror_mode": {
    "name": "ipython",
    "version": 3
   },
   "file_extension": ".py",
   "mimetype": "text/x-python",
   "name": "python",
   "nbconvert_exporter": "python",
   "pygments_lexer": "ipython3",
   "version": "3.8.13"
  }
 },
 "nbformat": 4,
 "nbformat_minor": 5
}
