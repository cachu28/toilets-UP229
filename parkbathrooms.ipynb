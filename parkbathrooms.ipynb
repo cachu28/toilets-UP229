{
 "cells": [
  {
   "cell_type": "markdown",
   "id": "3bf9c7d9-21e3-4d8c-a31f-8190df888f91",
   "metadata": {},
   "source": [
    "# Geocoding park bathrooms - UP 229\n",
    "### Carolyn Chu\n",
    "I had addresses of parks with bathrooms but needed to geocode them...."
   ]
  },
  {
   "cell_type": "code",
   "execution_count": 2,
   "id": "88ff133a-2d35-4cf4-a299-728545184d72",
   "metadata": {},
   "outputs": [],
   "source": [
    "# to download osm dataimport osmnx as ox\n",
    "import osmnx as ox\n",
    "\n",
    "# to manipulate and visualize spatial dataimport geopandas as gpd\n",
    "import geopandas as gpd\n",
    "\n",
    "# we import this so we can process this csv file\n",
    "import pandas as pd\n",
    "\n",
    "parks = pd.read_csv('MiscData/parks.csv')"
   ]
  },
  {
   "cell_type": "code",
   "execution_count": 5,
   "id": "59f484df-649a-44d2-aaf1-a680fbd1204f",
   "metadata": {},
   "outputs": [],
   "source": [
    "parks['lat'] = pd.Series(dtype='float')\n",
    "parks['lon'] = pd.Series(dtype='float')"
   ]
  },
  {
   "cell_type": "code",
   "execution_count": 6,
   "id": "7bff7dd8-db84-4787-a3a4-cef9b353f4a2",
   "metadata": {},
   "outputs": [
    {
     "name": "stdout",
     "output_type": "stream",
     "text": [
      "<class 'pandas.core.frame.DataFrame'>\n",
      "RangeIndex: 35 entries, 0 to 34\n",
      "Data columns (total 4 columns):\n",
      " #   Column   Non-Null Count  Dtype  \n",
      "---  ------   --------------  -----  \n",
      " 0   name     35 non-null     object \n",
      " 1   address  35 non-null     object \n",
      " 2   lat      0 non-null      float64\n",
      " 3   lon      0 non-null      float64\n",
      "dtypes: float64(2), object(2)\n",
      "memory usage: 1.2+ KB\n"
     ]
    }
   ],
   "source": [
    "parks.info()"
   ]
  },
  {
   "cell_type": "code",
   "execution_count": 10,
   "id": "ab88913f-97d4-4999-97a1-f92782f068c4",
   "metadata": {},
   "outputs": [
    {
     "name": "stdout",
     "output_type": "stream",
     "text": [
      "57905790 Compton Ave., Los Angeles, CA 90011 geocoded to 34.0138605 -118.2478636\n",
      "2900 N. Vermont Ave., Los Angeles, CA 90027 geocoded to 34.1051764 -118.2918046\n",
      "929 Academy Rd., Los Angeles, CA 90012 geocoded to 34.079904034795675 -118.23658995555353\n",
      "Could not geocode 15174 San Fernando Mission Rd., Mission Hills, CA 91345\n",
      "13306 Branford Street, Arleta, CA 91331 geocoded to 34.23350738888889 -118.42319333333333\n",
      "Could not geocode 3800 Stephen M. White Drive, San Pedro, CA\n",
      "Chavez Ravine Rd, Los Angeles, CA 90012 geocoded to 34.066645 -118.2411523\n",
      "1550 W. 35th Place, Los Angeles, CA 90018 geocoded to 34.02363 -118.304565\n",
      "929 Academy Road, Los Angeles, CA 90012 geocoded to 34.079904034795675 -118.23658995555353\n",
      "16953 Ventura Blvd., Encino, CA 91316 geocoded to 34.159675516129035 -118.50250548387096\n",
      "6th & Gladys St., Los Angeles, CA 90021 geocoded to 34.0400671 -118.241897\n",
      "4730 Crystal Springs Drive, Los Angeles, CA 90027 geocoded to 34.140603999999996 -118.29651118079025\n",
      "Could not geocode 1221 N. Figueroa Place, Wilmington, CA 90744\n",
      "16200 Burbank Blvd., Encino, CA 91436 geocoded to 34.17044 -118.478059\n",
      "Could not geocode 2599 Beverwill Dr., Los Angeles, CA 90064\n",
      "4625 West Olympic Blvd., Los Angeles, CA 90019 geocoded to 34.0564765 -118.3319085\n",
      "6300 Balboa Blvd, Lake Balboa, CA 91406 geocoded to 34.184134774734254 -118.50100586842363\n",
      "3501 Valley Blvd., Los Angeles, CA 90031 geocoded to 34.065574 -118.20203\n",
      "Could not geocode 23936 Highlander Rd., Canoga Park, CA 91307\n",
      "Could not geocode On Stadium between Scott Road & Academy Road, Los Angeles, CA 90012\n",
      "3900 W. Chevy Chase Dr., Los Angeles, CA 90039 geocoded to 34.1334134 -118.2709952\n",
      "Could not geocode 23600 Roscoe Blvd., West Hills, CA 91304\n",
      "7600 Beverly Blvd., Los Angeles, CA 90036 geocoded to 34.0761337 -118.3525295\n",
      "7600 Beverly Blvd., Los Angeles, CA 90036 geocoded to 34.0761337 -118.3525295\n",
      "4730 Crystal Springs Dr., Los Angeles, CA 90027 geocoded to 34.140603999999996 -118.29651118079025\n",
      "145 S. Pecan St., Los Angeles, CA 90033 geocoded to 34.046832 -118.22183466666667\n",
      "1240 West Blvd., Los Angeles, CA 90019 geocoded to 34.05046608695652 -118.33289504347826\n",
      "12467 Osborne St, Pacoima, CA 91331 geocoded to 34.2512763 -118.4134847\n",
      "20200 Runnymede St., Winnetka, CA 91306 geocoded to 34.205829 -118.572938\n",
      "17017 Burbank Blvd., Encino, CA 91316 geocoded to 34.1714384 -118.4986296\n",
      "Could not geocode 20726 Wells Dr., Woodland Hills, CA 91364\n",
      "7020 S. Figueroa St. Los Angeles, 90003 geocoded to 33.97594887804878 -118.2825710487805\n",
      "15900 Pacific Coast Hwy., Pacific Palisades, CA 90272 geocoded to 34.0271938 -118.5176043\n",
      "5000 Westpark Drive, North Hollywood, CA 91601 geocoded to 34.163186 -118.382549\n",
      "6350 Woodley Ave., Van Nuys, CA 91436 geocoded to 34.1869171 -118.4836561\n"
     ]
    }
   ],
   "source": [
    "# loop through list and add to dataframe with lat/lon's\n",
    "for index, row in parks.iterrows():\n",
    "\n",
    "    # identify the address column\n",
    "    address = row['address']\n",
    "    \n",
    "    try:\n",
    "        \n",
    "        # geocode it\n",
    "        geocoded_address = ox.geocoder.geocode(address)\n",
    "\n",
    "        # add it to the dataframe\n",
    "        parks.at[index,'lat']=geocoded_address[0]\n",
    "        parks.at[index,'lon']=geocoded_address[1]\n",
    "\n",
    "        # print the output\n",
    "        print(address + ' geocoded to ' + str(geocoded_address[0])+' '+str(geocoded_address[1]))        \n",
    "\n",
    "    except:\n",
    "        print('Could not geocode '+ address)\n",
    "        pass"
   ]
  },
  {
   "cell_type": "code",
   "execution_count": 11,
   "id": "f753ca1f-bed1-4ba2-97b2-1c1aef0406a7",
   "metadata": {},
   "outputs": [
    {
     "data": {
      "text/html": [
       "<div>\n",
       "<style scoped>\n",
       "    .dataframe tbody tr th:only-of-type {\n",
       "        vertical-align: middle;\n",
       "    }\n",
       "\n",
       "    .dataframe tbody tr th {\n",
       "        vertical-align: top;\n",
       "    }\n",
       "\n",
       "    .dataframe thead th {\n",
       "        text-align: right;\n",
       "    }\n",
       "</style>\n",
       "<table border=\"1\" class=\"dataframe\">\n",
       "  <thead>\n",
       "    <tr style=\"text-align: right;\">\n",
       "      <th></th>\n",
       "      <th>name</th>\n",
       "      <th>address</th>\n",
       "      <th>lat</th>\n",
       "      <th>lon</th>\n",
       "    </tr>\n",
       "  </thead>\n",
       "  <tbody>\n",
       "    <tr>\n",
       "      <th>0</th>\n",
       "      <td>Augustus F. Hawkins Natural Park</td>\n",
       "      <td>57905790 Compton Ave., Los Angeles, CA 90011</td>\n",
       "      <td>34.013860</td>\n",
       "      <td>-118.247864</td>\n",
       "    </tr>\n",
       "    <tr>\n",
       "      <th>1</th>\n",
       "      <td>Bird Sanctuary</td>\n",
       "      <td>2900 N. Vermont Ave., Los Angeles, CA 90027</td>\n",
       "      <td>34.105176</td>\n",
       "      <td>-118.291805</td>\n",
       "    </tr>\n",
       "    <tr>\n",
       "      <th>2</th>\n",
       "      <td>Bishop Canyon</td>\n",
       "      <td>929 Academy Rd., Los Angeles, CA 90012</td>\n",
       "      <td>34.079904</td>\n",
       "      <td>-118.236590</td>\n",
       "    </tr>\n",
       "    <tr>\n",
       "      <th>3</th>\n",
       "      <td>Brand Park</td>\n",
       "      <td>15174 San Fernando Mission Rd., Mission Hills,...</td>\n",
       "      <td>NaN</td>\n",
       "      <td>NaN</td>\n",
       "    </tr>\n",
       "    <tr>\n",
       "      <th>4</th>\n",
       "      <td>Branford Recreation Center</td>\n",
       "      <td>13306 Branford Street, Arleta, CA 91331</td>\n",
       "      <td>34.233507</td>\n",
       "      <td>-118.423193</td>\n",
       "    </tr>\n",
       "  </tbody>\n",
       "</table>\n",
       "</div>"
      ],
      "text/plain": [
       "                               name  \\\n",
       "0  Augustus F. Hawkins Natural Park   \n",
       "1                    Bird Sanctuary   \n",
       "2                     Bishop Canyon   \n",
       "3                        Brand Park   \n",
       "4        Branford Recreation Center   \n",
       "\n",
       "                                             address        lat         lon  \n",
       "0       57905790 Compton Ave., Los Angeles, CA 90011  34.013860 -118.247864  \n",
       "1        2900 N. Vermont Ave., Los Angeles, CA 90027  34.105176 -118.291805  \n",
       "2             929 Academy Rd., Los Angeles, CA 90012  34.079904 -118.236590  \n",
       "3  15174 San Fernando Mission Rd., Mission Hills,...        NaN         NaN  \n",
       "4            13306 Branford Street, Arleta, CA 91331  34.233507 -118.423193  "
      ]
     },
     "execution_count": 11,
     "metadata": {},
     "output_type": "execute_result"
    }
   ],
   "source": [
    "parks.head()"
   ]
  },
  {
   "cell_type": "code",
   "execution_count": 13,
   "id": "34646c3e-ff7d-4a1e-9294-ed352f58f602",
   "metadata": {},
   "outputs": [],
   "source": [
    "parks.to_csv ('MiscData/parkslatlon.csv')"
   ]
  },
  {
   "cell_type": "code",
   "execution_count": null,
   "id": "defece5c-c52a-4e13-910e-68562badfa3b",
   "metadata": {},
   "outputs": [],
   "source": []
  }
 ],
 "metadata": {
  "kernelspec": {
   "display_name": "Python 3 (ipykernel)",
   "language": "python",
   "name": "python3"
  },
  "language_info": {
   "codemirror_mode": {
    "name": "ipython",
    "version": 3
   },
   "file_extension": ".py",
   "mimetype": "text/x-python",
   "name": "python",
   "nbconvert_exporter": "python",
   "pygments_lexer": "ipython3",
   "version": "3.9.6"
  }
 },
 "nbformat": 4,
 "nbformat_minor": 5
}
