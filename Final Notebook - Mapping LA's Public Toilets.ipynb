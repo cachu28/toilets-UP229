{
 "cells": [
  {
   "cell_type": "markdown",
   "id": "a261cdba",
   "metadata": {},
   "source": [
    "# Mapping LA's Public Toilets\n",
    "## Kevin Liu, Paola Tirado Escareno, Carolyn Chu\n",
    "\n",
    "This is the final notebook for our UP 229 research project which maps the publicly available toilets in Los Angeles."
   ]
  },
  {
   "cell_type": "code",
   "execution_count": 1,
   "id": "95d65945",
   "metadata": {},
   "outputs": [],
   "source": [
    "import pandas as pd\n",
    "import geopandas as gpd\n",
    "import contextily as ctx\n",
    "import matplotlib.pyplot as plt"
   ]
  },
  {
   "cell_type": "code",
   "execution_count": 2,
   "id": "ada8f37a",
   "metadata": {},
   "outputs": [],
   "source": [
    "#check the crs"
   ]
  },
  {
   "cell_type": "code",
   "execution_count": 3,
   "id": "710d1f26",
   "metadata": {},
   "outputs": [],
   "source": [
    "toilets = gpd.read_file('toilets.geojson').to_crs(epsg='3857')"
   ]
  },
  {
   "cell_type": "code",
   "execution_count": 4,
   "id": "bbfdfc8f",
   "metadata": {},
   "outputs": [
    {
     "data": {
      "text/plain": [
       "<Derived Projected CRS: EPSG:3857>\n",
       "Name: WGS 84 / Pseudo-Mercator\n",
       "Axis Info [cartesian]:\n",
       "- X[east]: Easting (metre)\n",
       "- Y[north]: Northing (metre)\n",
       "Area of Use:\n",
       "- name: World between 85.06°S and 85.06°N.\n",
       "- bounds: (-180.0, -85.06, 180.0, 85.06)\n",
       "Coordinate Operation:\n",
       "- name: Popular Visualisation Pseudo-Mercator\n",
       "- method: Popular Visualisation Pseudo Mercator\n",
       "Datum: World Geodetic System 1984 ensemble\n",
       "- Ellipsoid: WGS 84\n",
       "- Prime Meridian: Greenwich"
      ]
     },
     "execution_count": 4,
     "metadata": {},
     "output_type": "execute_result"
    }
   ],
   "source": [
    "toilets.crs"
   ]
  },
  {
   "cell_type": "code",
   "execution_count": 6,
   "id": "70c3adf2",
   "metadata": {},
   "outputs": [],
   "source": [
    "#counts = gpd.read_file('2020countbytract_final.geojson')"
   ]
  },
  {
   "cell_type": "code",
   "execution_count": null,
   "id": "69b3eaa0",
   "metadata": {},
   "outputs": [],
   "source": [
    "count_sjoin = gpd.sjoin(counts.to_crs('EPSG:3857'), toilets, how='left', predicate = 'intersects')\n",
    "counts_sjoin.head"
   ]
  },
  {
   "cell_type": "code",
   "execution_count": null,
   "id": "947698d8",
   "metadata": {},
   "outputs": [],
   "source": []
  },
  {
   "cell_type": "code",
   "execution_count": null,
   "id": "a41b2cd6",
   "metadata": {},
   "outputs": [],
   "source": []
  },
  {
   "cell_type": "code",
   "execution_count": null,
   "id": "d56305dc",
   "metadata": {},
   "outputs": [],
   "source": []
  },
  {
   "cell_type": "code",
   "execution_count": null,
   "id": "5ff08e13",
   "metadata": {},
   "outputs": [],
   "source": []
  },
  {
   "cell_type": "code",
   "execution_count": null,
   "id": "eb9607f6",
   "metadata": {},
   "outputs": [],
   "source": []
  },
  {
   "cell_type": "code",
   "execution_count": null,
   "id": "a61b41e5",
   "metadata": {},
   "outputs": [],
   "source": []
  },
  {
   "cell_type": "code",
   "execution_count": null,
   "id": "ee84ed40",
   "metadata": {},
   "outputs": [],
   "source": []
  },
  {
   "cell_type": "code",
   "execution_count": null,
   "id": "7401001b",
   "metadata": {},
   "outputs": [],
   "source": []
  }
 ],
 "metadata": {
  "kernelspec": {
   "display_name": "Python 3 (ipykernel)",
   "language": "python",
   "name": "python3"
  },
  "language_info": {
   "codemirror_mode": {
    "name": "ipython",
    "version": 3
   },
   "file_extension": ".py",
   "mimetype": "text/x-python",
   "name": "python",
   "nbconvert_exporter": "python",
   "pygments_lexer": "ipython3",
   "version": "3.8.13"
  }
 },
 "nbformat": 4,
 "nbformat_minor": 5
}
