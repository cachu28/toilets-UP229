{
 "cells": [
  {
   "cell_type": "code",
   "execution_count": null,
   "id": "7ab66eb9",
   "metadata": {},
   "outputs": [],
   "source": [
    "from pykml import parser\n",
    "\n",
    "root = parser.fromstring(open('BatchGeo.kml', 'r').read())\n",
    "print root.Document.Placemark.Point.coordinates"
   ]
  }
 ],
 "metadata": {
  "kernelspec": {
   "display_name": "Python 3 (ipykernel)",
   "language": "python",
   "name": "python3"
  },
  "language_info": {
   "codemirror_mode": {
    "name": "ipython",
    "version": 3
   },
   "file_extension": ".py",
   "mimetype": "text/x-python",
   "name": "python",
   "nbconvert_exporter": "python",
   "pygments_lexer": "ipython3",
   "version": "3.8.13"
  }
 },
 "nbformat": 4,
 "nbformat_minor": 5
}
