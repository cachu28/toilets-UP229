{
 "cells": [
  {
   "cell_type": "markdown",
   "id": "17cee3f2",
   "metadata": {},
   "source": [
    "# LACAN Handwashing Station Data\n",
    "### Exported from Google Maps as KML and imported here using lxml"
   ]
  },
  {
   "cell_type": "markdown",
   "id": "43ffb130",
   "metadata": {},
   "source": [
    "#### Install lxml to be able to import and extract coordinates from kml files\n",
    "\n",
    "`conda activate uds`\n",
    "\n",
    "`conda install -c conda-forge pykml`\n",
    "\n",
    "`conda install -c conda-forge/label/cf201901 pykml`\n",
    "\n",
    "`conda install -c conda-forge/label/cf202003 pykml`"
   ]
  },
  {
   "cell_type": "code",
   "execution_count": 4,
   "id": "8a34b3dc",
   "metadata": {},
   "outputs": [
    {
     "ename": "AttributeError",
     "evalue": "no such child: {http://www.opengis.net/kml/2.2}Polygon",
     "output_type": "error",
     "traceback": [
      "\u001b[0;31m---------------------------------------------------------------------------\u001b[0m",
      "\u001b[0;31mAttributeError\u001b[0m                            Traceback (most recent call last)",
      "Input \u001b[0;32mIn [4]\u001b[0m, in \u001b[0;36m<cell line: 13>\u001b[0;34m()\u001b[0m\n\u001b[1;32m     12\u001b[0m pms \u001b[38;5;241m=\u001b[39m root\u001b[38;5;241m.\u001b[39mxpath(\u001b[38;5;124m\"\u001b[39m\u001b[38;5;124m.//kml:Placemark[.//kml:Polygon]\u001b[39m\u001b[38;5;124m\"\u001b[39m, namespaces\u001b[38;5;241m=\u001b[39mnamespace)\n\u001b[1;32m     13\u001b[0m \u001b[38;5;28;01mfor\u001b[39;00m p \u001b[38;5;129;01min\u001b[39;00m pms:\n\u001b[0;32m---> 14\u001b[0m   \u001b[38;5;28mprint\u001b[39m(\u001b[43mp\u001b[49m\u001b[38;5;241;43m.\u001b[39;49m\u001b[43mPolygon\u001b[49m\u001b[38;5;241m.\u001b[39mouterBoundaryIs\u001b[38;5;241m.\u001b[39mLinearRing\u001b[38;5;241m.\u001b[39mcoordinates)\n",
      "File \u001b[0;32msrc/lxml/objectify.pyx:234\u001b[0m, in \u001b[0;36mlxml.objectify.ObjectifiedElement.__getattr__\u001b[0;34m()\u001b[0m\n",
      "File \u001b[0;32msrc/lxml/objectify.pyx:453\u001b[0m, in \u001b[0;36mlxml.objectify._lookupChildOrRaise\u001b[0;34m()\u001b[0m\n",
      "\u001b[0;31mAttributeError\u001b[0m: no such child: {http://www.opengis.net/kml/2.2}Polygon"
     ]
    }
   ],
   "source": [
    "from pykml import parser\n",
    "import pandas as pd\n",
    "\n",
    "#filename = 'LACAN Handwashing Station Map.kml'\n",
    "#with open(filename) as fobj:\n",
    "    #folder = parser.parse(fobj).getroot().Document\n",
    "\n",
    "from pykml import parser\n",
    "with open('LACAN Handwashing Station Map.kml', 'r') as f:\n",
    "  root = parser.parse(f).getroot()\n",
    "namespace = {\"kml\": 'http://www.opengis.net/kml/2.2'}\n",
    "pms = root.xpath(\".//kml:Placemark[.//kml:Polygon]\", namespaces=namespace)\n",
    "for p in pms:\n",
    "  print(p.Polygon.outerBoundaryIs.LinearRing.coordinates)"
   ]
  },
  {
   "cell_type": "code",
   "execution_count": 3,
   "id": "a36b7a4e",
   "metadata": {},
   "outputs": [
    {
     "data": {
      "text/plain": [
       "<Element {http://www.opengis.net/kml/2.2}Document at 0x7fd191c9ce40>"
      ]
     },
     "execution_count": 3,
     "metadata": {},
     "output_type": "execute_result"
    }
   ],
   "source": []
  },
  {
   "cell_type": "code",
   "execution_count": null,
   "id": "63e89922",
   "metadata": {},
   "outputs": [],
   "source": []
  }
 ],
 "metadata": {
  "kernelspec": {
   "display_name": "Python 3 (ipykernel)",
   "language": "python",
   "name": "python3"
  },
  "language_info": {
   "codemirror_mode": {
    "name": "ipython",
    "version": 3
   },
   "file_extension": ".py",
   "mimetype": "text/x-python",
   "name": "python",
   "nbconvert_exporter": "python",
   "pygments_lexer": "ipython3",
   "version": "3.8.13"
  }
 },
 "nbformat": 4,
 "nbformat_minor": 5
}
