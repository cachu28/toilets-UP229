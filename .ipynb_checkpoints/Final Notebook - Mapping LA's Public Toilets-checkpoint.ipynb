{
 "cells": [
  {
   "cell_type": "markdown",
   "id": "421f6c54",
   "metadata": {},
   "source": [
    "# Mapping LA's Public Toilets\n",
    "## Kevin Liu, Paola Tirado Escareno, Carolyn Chu\n",
    "## UP 229: Urban Data Science, Spring 2022\n",
    "\n",
    "**Introduction**\n",
    "\n",
    "In the early months of the COVID-19 shutdown, restaurants, libraries, and gas stations closed their bathroom facilities due to the unknown nature of how the virus spread. For much of the general public, finding a restroom to use while out of their home was a novel problem borne by public health response. Though for unhoused people, this challenge precedes the pandemic, and the response by cities to serve this need has been varied. \n",
    "\n",
    "Public toilets are a "
   ]
  },
  {
   "cell_type": "code",
   "execution_count": 1,
   "id": "fe31f094",
   "metadata": {},
   "outputs": [],
   "source": [
    "import pandas as pd\n",
    "import geopandas as gpd\n",
    "import contextily as ctx\n",
    "import matplotlib.pyplot as plt"
   ]
  },
  {
   "cell_type": "code",
   "execution_count": 2,
   "id": "945d4f73",
   "metadata": {},
   "outputs": [],
   "source": [
    "#check the crs"
   ]
  },
  {
   "cell_type": "code",
   "execution_count": 3,
   "id": "5135c5f2",
   "metadata": {},
   "outputs": [],
   "source": [
    "toilets = gpd.read_file('toilets.geojson').to_crs(epsg='3857')"
   ]
  },
  {
   "cell_type": "code",
   "execution_count": 4,
   "id": "e684d96c",
   "metadata": {},
   "outputs": [
    {
     "data": {
      "text/plain": [
       "<Derived Projected CRS: EPSG:3857>\n",
       "Name: WGS 84 / Pseudo-Mercator\n",
       "Axis Info [cartesian]:\n",
       "- X[east]: Easting (metre)\n",
       "- Y[north]: Northing (metre)\n",
       "Area of Use:\n",
       "- name: World between 85.06°S and 85.06°N.\n",
       "- bounds: (-180.0, -85.06, 180.0, 85.06)\n",
       "Coordinate Operation:\n",
       "- name: Popular Visualisation Pseudo-Mercator\n",
       "- method: Popular Visualisation Pseudo Mercator\n",
       "Datum: World Geodetic System 1984 ensemble\n",
       "- Ellipsoid: WGS 84\n",
       "- Prime Meridian: Greenwich"
      ]
     },
     "execution_count": 4,
     "metadata": {},
     "output_type": "execute_result"
    }
   ],
   "source": [
    "toilets.crs"
   ]
  },
  {
   "cell_type": "code",
   "execution_count": 6,
   "id": "38845ea9",
   "metadata": {},
   "outputs": [],
   "source": [
    "#counts = gpd.read_file('2020countbytract_final.geojson')"
   ]
  },
  {
   "cell_type": "code",
   "execution_count": null,
   "id": "822afe31",
   "metadata": {},
   "outputs": [],
   "source": [
    "count_sjoin = gpd.sjoin(counts.to_crs('EPSG:3857'), toilets, how='left', predicate = 'intersects')\n",
    "counts_sjoin.head"
   ]
  },
  {
   "cell_type": "code",
   "execution_count": null,
   "id": "dc9f2532",
   "metadata": {},
   "outputs": [],
   "source": [
    "#check whether lengths are ok\n",
    "print('counts length: {}'.format(len(counts)))\n",
    "print('toilets length: {}'.format(len(toilets)))\n",
    "print('counts_sjoin length: {}'.format(len(counts_sjoin)))\n"
   ]
  },
  {
   "cell_type": "code",
   "execution_count": null,
   "id": "448931e8",
   "metadata": {},
   "outputs": [],
   "source": []
  },
  {
   "cell_type": "code",
   "execution_count": null,
   "id": "960dfc70",
   "metadata": {},
   "outputs": [],
   "source": []
  },
  {
   "cell_type": "code",
   "execution_count": null,
   "id": "800039a3",
   "metadata": {},
   "outputs": [],
   "source": []
  },
  {
   "cell_type": "code",
   "execution_count": null,
   "id": "c3972e0e",
   "metadata": {},
   "outputs": [],
   "source": []
  },
  {
   "cell_type": "code",
   "execution_count": null,
   "id": "5ad99e19",
   "metadata": {},
   "outputs": [],
   "source": []
  },
  {
   "cell_type": "code",
   "execution_count": null,
   "id": "7d21533e",
   "metadata": {},
   "outputs": [],
   "source": []
  },
  {
   "cell_type": "code",
   "execution_count": null,
   "id": "426f8da1",
   "metadata": {},
   "outputs": [],
   "source": []
  }
 ],
 "metadata": {
  "kernelspec": {
   "display_name": "Python 3 (ipykernel)",
   "language": "python",
   "name": "python3"
  },
  "language_info": {
   "codemirror_mode": {
    "name": "ipython",
    "version": 3
   },
   "file_extension": ".py",
   "mimetype": "text/x-python",
   "name": "python",
   "nbconvert_exporter": "python",
   "pygments_lexer": "ipython3",
   "version": "3.8.13"
  }
 },
 "nbformat": 4,
 "nbformat_minor": 5
}
