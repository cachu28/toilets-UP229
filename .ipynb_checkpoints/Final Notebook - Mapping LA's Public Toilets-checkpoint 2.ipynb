{
 "cells": [
  {
   "cell_type": "markdown",
   "id": "421f6c54",
   "metadata": {},
   "source": [
    "# Mapping LA's Public Toilets\n",
    "## Kevin Liu, Paola Tirado Escareno, Carolyn Chu\n",
    "## UP 229: Urban Data Science, Spring 2022\n",
    "\n",
    "**Introduction**\n",
    "\n",
    "In the early months of the COVID-19 shutdown, restaurants, libraries, and gas stations closed their bathroom facilities due to the unknown nature of how the virus spread. For much of the general public, finding a restroom to use while out of their home was a novel problem borne by public health response. Though for unhoused people, this challenge precedes the pandemic, and the responses by many (most) city governments have been inadequate. The City of Los Angeles initially set up [363 hand washing stations and 182 portable toilets](https://www.latimes.com/opinion/story/2021-07-25/editorial-los-angeles-homeless-bathrooms) across the city. Since then, the city has struggled with maintenance and has faced backlash when trying to remove them (see [here](https://laist.com/news/housing-homelessness/la-city-council-to-consider-reinstating-porta-potties-for-unhoused-angelenos) or [here](https://www.lataco.com/porta-potty-homeless/)). Still, access to clean, accessible restrooms remains an ongoing and dire issue for unhoused people in our communities. In this research project, we examine the access and distribution to public restrooms by comparing their locations to the 2020 Homeless Count data from L.A. County.\n",
    "\n",
    "Our research questions include, \"What's the distribution of publicly available toilets in Los Angeles and how does this compare to the distribution of unhoused people in the county? Through spatial clustering, can we find patterns in this distribution? What kinds of correlation do we find between publicly available toilets and race/ethnicity of certain census tracts?\" \n",
    "\n",
    "**Data Preparation**\n",
    "\n",
    "Previous to this notebook, we compiled a dataset of publicly available toilets from a variety of data sources including LACAN, Los Angeles Recreation and Parks, and the L.A. and Los Angeles County Library systems. We also joined the Los Angeles County Homeless Count Data (2020) with 5-Year American Community Survey (ACS) population counts and census tract geometries (which we acquired from the census API and LA County Open Data Portal, respectively). We bring these datsets in at the beginning of this notebook."
   ]
  },
  {
   "cell_type": "code",
   "execution_count": null,
   "id": "fe31f094",
   "metadata": {},
   "outputs": [],
   "source": [
    "import pandas as pd\n",
    "import geopandas as gpd\n",
    "import contextily as ctx\n",
    "import matplotlib.pyplot as plt"
   ]
  },
  {
   "cell_type": "markdown",
   "id": "3422ea8e",
   "metadata": {},
   "source": [
    "### Import Data"
   ]
  },
  {
   "cell_type": "code",
   "execution_count": null,
   "id": "5135c5f2",
   "metadata": {
    "scrolled": true
   },
   "outputs": [],
   "source": [
    "#upload toilet data\n",
    "toilets = gpd.read_file('alltoilets.geojson')\n",
    "toilets.sample(10)"
   ]
  },
  {
   "cell_type": "markdown",
   "id": "3f163928",
   "metadata": {},
   "source": [
    "The toilets dataset is a combination of all of the various LAHSA recorded handwashing stations, LACAN recorded handwashing stations, park bathrooms, and libraries. We code the data points by type, allowing us to later on map out the various types of hygiene stations all across the city and county."
   ]
  },
  {
   "cell_type": "code",
   "execution_count": null,
   "id": "38845ea9",
   "metadata": {},
   "outputs": [],
   "source": [
    "#upload homeless data count\n",
    "counts = gpd.read_file('homelesscount_tracts.geojson').to_crs('EPSG:4326')\n",
    "counts.head()"
   ]
  },
  {
   "cell_type": "markdown",
   "id": "1b724ee3",
   "metadata": {},
   "source": [
    "The homelesscount_tracts dataset is a joined json containing both the [2020 Economic Roundtable Homeless Count by Census Tract data](https://economicrt.org/publication/los-angeles-county-homeless-count-data-library/), and the 2019 ACS 5 Year Estimate Total Population of LA County divided by census tract. The 2020 Homeless Count data utilizes the older census tracts from the 2019 ACS 5-year as opposed to the new 2020 tracts. So, we joined the 2020 Homeless Count data with the 2019 ACS 5-year data on the census tract."
   ]
  },
  {
   "cell_type": "code",
   "execution_count": null,
   "id": "d7329d24",
   "metadata": {
    "scrolled": true
   },
   "outputs": [],
   "source": [
    "#upload race data\n",
    "raceGdf = gpd.read_file('PTE Folder/race.geojson')\n",
    "raceGdf.head()"
   ]
  },
  {
   "cell_type": "markdown",
   "id": "8d528042",
   "metadata": {},
   "source": [
    "The raceGdf dataset is 2019 ACS data containing multiple variables regarding race. Each ethnicity's percentage of the total population was calculated and put into new columns, and then joined with the 2010 Census tracts for geometry data. "
   ]
  },
  {
   "cell_type": "code",
   "execution_count": null,
   "id": "3c9c3b7c",
   "metadata": {},
   "outputs": [],
   "source": [
    "#upload income data\n",
    "\n",
    "incomeGdf = gpd.read_file('PTE Folder/income.geojson')\n",
    "incomeGdf.head()"
   ]
  },
  {
   "cell_type": "markdown",
   "id": "a0c94bf4",
   "metadata": {},
   "source": [
    "The incomeGdf dataset is 2019 ACS estimate of median household income data. Null values and 0's have been dropped, and then joined with 2010 Census tracts for geometry data."
   ]
  },
  {
   "cell_type": "markdown",
   "id": "91bcfe05",
   "metadata": {},
   "source": [
    "### Demographics of LA County and Hygiene Station Availability"
   ]
  },
  {
   "cell_type": "markdown",
   "id": "fb170ddc",
   "metadata": {},
   "source": [
    "Let's take a look at our toilets dataset overlayed across some demographic data around Los Angeles County. First we'll take a look at race, specifically % BIPOC population."
   ]
  },
  {
   "cell_type": "code",
   "execution_count": null,
   "id": "2f3b5f16",
   "metadata": {},
   "outputs": [],
   "source": [
    "#LA county wide map\n",
    "\n",
    "f, ax = plt.subplots(figsize=(15,15))\n",
    "\n",
    "toilets.plot('type', ax=ax, marker='o', markersize=20, legend=True)\n",
    "\n",
    "raceGdf.plot('Percent Non white', \n",
    "            ax=ax, \n",
    "            cmap='RdPu', \n",
    "            legend=True, \n",
    "            legend_kwds={'orientation': 'vertical'}, \n",
    "            alpha=0.3, \n",
    "            label='Count')\n",
    "ax.set_xlim([-118.721783, -118.08]) \n",
    "ax.set_ylim([33.68, 34.4])\n",
    "ax.set_title('Percent Black, Indidenous, People of Color (BIPOC) with Santitation Stations in LA County', fontsize=20)\n",
    "\n",
    "ctx.add_basemap(ax,crs='EPSG:4326', source=ctx.providers.Stamen.TonerLite)\n",
    "\n",
    "plt.show()"
   ]
  },
  {
   "cell_type": "markdown",
   "id": "19686457",
   "metadata": {},
   "source": [
    "It's no surprise that most of the City of LA is majority BIPOC, and the hygiene station data doesn't seem to have any meaningful relationship to % BIPOC population. While most hygeien station data points are in majority BIPOC tracts, some areas like the southern part of the Valley, Westwood, and Venice are all majority white areas that still have a decent amount of hygiene stations. It is interesting to see how much whiter the westside of LA is, and also the outskirts of the Valley."
   ]
  },
  {
   "cell_type": "markdown",
   "id": "2ae12fbc",
   "metadata": {},
   "source": [
    "Second, let's take a look at median household income data."
   ]
  },
  {
   "cell_type": "code",
   "execution_count": null,
   "id": "d3f5871c",
   "metadata": {},
   "outputs": [],
   "source": [
    "f, ax = plt.subplots(figsize=(15,15))\n",
    "\n",
    "toilets.plot('type', ax=ax, marker='o', markersize=20, legend=True)\n",
    "\n",
    "incomeGdf.plot('median_income', \n",
    "            ax=ax, \n",
    "            cmap='RdPu', \n",
    "            legend=True, \n",
    "            legend_kwds={'orientation': 'vertical'}, \n",
    "            alpha=0.3, \n",
    "            label='Count')\n",
    "ax.set_xlim([-118.721783, -118.08]) \n",
    "ax.set_ylim([33.68, 34.4])\n",
    "ax.set_title('Median Income with Santitation Stations in LA County', fontsize=25)\n",
    "\n",
    "ctx.add_basemap(ax,crs='EPSG:4326', source=ctx.providers.Stamen.TonerLite)\n",
    "\n",
    "plt.show()"
   ]
  },
  {
   "cell_type": "markdown",
   "id": "12368f5d",
   "metadata": {},
   "source": [
    "The immediate relationship that stands out is that some of the extremely wealthy communities have public hygiene stations available, like Rancho Palos Verdes, the tract immediately Southwest of Griffith Park, all of the Santa Monica Mountains (Topanga, Bel Air, etc), Redondo/Hermosa Beach, and the Rose Bowl Area of Pasadena. There's also a noticeable gap of hygiene station availability for lower income tracts between West AThens and Long Beach."
   ]
  },
  {
   "cell_type": "markdown",
   "id": "b15f499e",
   "metadata": {},
   "source": [
    "### Spatial Join of Toilets and Point in Time Count\n",
    "\n",
    "To get a sense of how many toilets are available to each houseless person within a given census tract, we spatially join toilets and homelesscount_tracts, count the number of toilets within each census tract, and divide the houseless population in the tract by the number of toilets."
   ]
  },
  {
   "cell_type": "code",
   "execution_count": null,
   "id": "822afe31",
   "metadata": {
    "scrolled": true
   },
   "outputs": [],
   "source": [
    "joinedGdf = gpd.sjoin(counts, toilets, how='left', predicate = 'intersects')\n",
    "joinedGdf.head()"
   ]
  },
  {
   "cell_type": "code",
   "execution_count": null,
   "id": "dc9f2532",
   "metadata": {},
   "outputs": [],
   "source": [
    "#check whether lengths are ok - looks reasonable\n",
    "print('counts length: {}'.format(len(counts)))\n",
    "print('toilets length: {}'.format(len(toilets)))\n",
    "print('joinedGdf length: {}'.format(len(joinedGdf)))\n"
   ]
  },
  {
   "cell_type": "code",
   "execution_count": null,
   "id": "be1867a5",
   "metadata": {},
   "outputs": [],
   "source": [
    "#right join to the toilets, so drops all census tracts w/o toilets\n",
    "joinedGdf2 = gpd.sjoin(counts, toilets, how='right', predicate='intersects')"
   ]
  },
  {
   "cell_type": "code",
   "execution_count": null,
   "id": "0d22fa33",
   "metadata": {},
   "outputs": [],
   "source": [
    "#check that it looks correct\n",
    "#joinedGdf2.head()"
   ]
  },
  {
   "cell_type": "code",
   "execution_count": null,
   "id": "6b9b0808",
   "metadata": {},
   "outputs": [],
   "source": [
    "#bring back the original joinedGdf\n",
    "#set index in preparation of joining n_TOILETS\n",
    "joinedGdf.set_index('short_geoid', inplace=True)"
   ]
  },
  {
   "cell_type": "code",
   "execution_count": null,
   "id": "89284f7a",
   "metadata": {},
   "outputs": [],
   "source": [
    "#count the number of toilets per census tract\n",
    "#creates a series\n",
    "n_toilets = joinedGdf2.groupby('short_geoid').size()\n",
    "\n",
    "#convert the series into a df\n",
    "n_TOILETS=pd.DataFrame(n_toilets)"
   ]
  },
  {
   "cell_type": "code",
   "execution_count": null,
   "id": "c2822ae4",
   "metadata": {},
   "outputs": [],
   "source": [
    "#rename the column to something that makes more sense\n",
    "n_TOILETS.columns = ['number_toilets']"
   ]
  },
  {
   "cell_type": "code",
   "execution_count": null,
   "id": "58ffdc50",
   "metadata": {},
   "outputs": [],
   "source": [
    "#join\n",
    "joinedGdf3=joinedGdf.join(n_TOILETS)"
   ]
  },
  {
   "cell_type": "code",
   "execution_count": null,
   "id": "a0b3a0c3",
   "metadata": {},
   "outputs": [],
   "source": [
    "#fill all NaN's with zero\n",
    "joinedGdf3['number_toilets'] = joinedGdf3['number_toilets'].fillna(0)"
   ]
  },
  {
   "cell_type": "code",
   "execution_count": null,
   "id": "93df4621",
   "metadata": {},
   "outputs": [],
   "source": [
    "#joinedGdf3.head()"
   ]
  },
  {
   "cell_type": "code",
   "execution_count": null,
   "id": "2216e1f7",
   "metadata": {},
   "outputs": [],
   "source": [
    "#calculate a ratio of # of people per public toilet/handwashing station\n",
    "joinedGdf3['toilet_ratio'] = joinedGdf3['homeless_count']/joinedGdf3['number_toilets']\n",
    "joinedGdf3.head()"
   ]
  },
  {
   "cell_type": "code",
   "execution_count": null,
   "id": "22409077",
   "metadata": {},
   "outputs": [],
   "source": [
    "# Replacing all inf values in the dataframe with zero\n",
    "\n",
    "import numpy as np\n",
    "joinedGdf3 = joinedGdf3.replace([np.inf, -np.inf], 0)"
   ]
  },
  {
   "cell_type": "markdown",
   "id": "fc26e0ff",
   "metadata": {},
   "source": [
    "### Exploring the toilet ratio\n",
    "\n",
    "In this section, we examine our data by sorting, wrangling, and mapping."
   ]
  },
  {
   "cell_type": "code",
   "execution_count": null,
   "id": "e65d3934",
   "metadata": {},
   "outputs": [],
   "source": [
    "#sort by census tracts with highest number of toilets\n",
    "toilets_descending = joinedGdf3.sort_values(by='number_toilets',ascending = False)\n",
    "toilets_descending.head(5)"
   ]
  },
  {
   "cell_type": "markdown",
   "id": "397bf620",
   "metadata": {},
   "source": [
    "In the lines of code and output above, we see that areas around Skid Row have highest concentrations of toilets, showers, and refresh spots. In this area, there are approximately 17 people to 1 restroom. (See toilet_ratio column.)"
   ]
  },
  {
   "cell_type": "code",
   "execution_count": null,
   "id": "161811ce",
   "metadata": {
    "scrolled": true
   },
   "outputs": [],
   "source": [
    "# which tracts had the highest ratio of houseless people per toilet\n",
    "ratio_descending = joinedGdf3.sort_values(by='toilet_ratio',ascending = False)\n",
    "ratio_descending.head(3) #chose 3 to shorten the length of this notebook\n"
   ]
  },
  {
   "cell_type": "code",
   "execution_count": null,
   "id": "f24352d2",
   "metadata": {},
   "outputs": [],
   "source": [
    "ratio_ascending = joinedGdf3.sort_values(by='toilet_ratio',ascending = True)\n",
    "ratio_ascending.head(3) #chose 3 to shorten the length of this notebook\n"
   ]
  },
  {
   "cell_type": "markdown",
   "id": "e6112d59",
   "metadata": {},
   "source": [
    "Most census tracts have 0-1 toilet in the entire tract. Therefore, we're seeing ratios of 0 toilets per 7,000+ unhoused people, or 2331 unhoused people to 1 toilet (in Eagle Rock, for example). However, we can likely assume that unhoused people in these tracts are likely using some publicly available restrooms elsewhere (in addition to using public streets, alleys, or other public spaces as restrooms). This illustrates one of our key limitations: our dataset of publicly available restrooms is not comprehensive."
   ]
  },
  {
   "cell_type": "code",
   "execution_count": null,
   "id": "3051aa00",
   "metadata": {},
   "outputs": [],
   "source": [
    "# Mapping\n",
    "import matplotlib.pyplot as plt\n",
    "import contextily as ctx\n",
    "\n",
    "#LA county wide map\n",
    "\n",
    "f, ax = plt.subplots(figsize=(15,15))\n",
    "\n",
    "joinedGdf3.plot('toilet_ratio', \n",
    "            ax=ax, \n",
    "            cmap='Reds', \n",
    "            legend=True, \n",
    "            legend_kwds={'orientation': 'vertical'}, \n",
    "            alpha=0.5, \n",
    "            label='Count')\n",
    "ax.set_xlim([-118.721783, -118.08]) \n",
    "ax.set_ylim([33.68, 34.4])\n",
    "ax.set_title('LA County Houseless People per Hygiene Station', fontsize=25)\n",
    "\n",
    "ctx.add_basemap(ax,crs='EPSG:4326', source=ctx.providers.Stamen.TonerLite)\n",
    "\n",
    "plt.show()"
   ]
  },
  {
   "cell_type": "markdown",
   "id": "7314102c",
   "metadata": {},
   "source": [
    "We see that areas that we would assume to be relatively well covered in terms of houseless services (Skid Row/Downtown, parts of the Valley) do seem to have lower overall people per hygiene station. Similarly, some of the more affluent areas such as Marina Del Rey, northern parts of the Valley, and Eagle Rock/Glendale seem to have higher people per hygiene station. But areas of South LA and NELA/East LA do look to be struggling with higher people per hygiene station."
   ]
  },
  {
   "cell_type": "markdown",
   "id": "a36f42c8",
   "metadata": {},
   "source": [
    "### Exploring the datasets spatially\n",
    "\n",
    "We also wanted to overlay the toilets data with the number of houseless individuals per census tract, with the aim at identifying certain tracts that have high houseless populations and a lack of hygiene stations available."
   ]
  },
  {
   "cell_type": "code",
   "execution_count": null,
   "id": "7907a423",
   "metadata": {},
   "outputs": [],
   "source": [
    "#LA county wide map\n",
    "import contextily as ctx\n",
    "import matplotlib.pyplot as plt\n",
    "f, ax = plt.subplots(figsize=(20,20))\n",
    "\n",
    "toilets.plot('type', ax=ax, marker='o', markersize=20, legend=True)\n",
    "\n",
    "counts.plot('homeless_count', \n",
    "            ax=ax, \n",
    "            cmap='RdPu', \n",
    "            legend=True, \n",
    "            legend_kwds={'orientation':'vertical', 'label':'Houseless Count'}, \n",
    "            alpha=0.3, \n",
    "            label='Count')\n",
    "ax.set_xlim([-118.721783, -118.08]) \n",
    "ax.set_ylim([33.68, 34.4])\n",
    "ax.set_title('2020 Houseless Count Data with Hygiene Stations in LA County', fontsize=25)\n",
    "\n",
    "ctx.add_basemap(ax,crs='EPSG:4326', source=ctx.providers.Stamen.TonerLite, zoom=12)\n",
    "\n",
    "plt.show()"
   ]
  },
  {
   "cell_type": "markdown",
   "id": "d92748d9",
   "metadata": {},
   "source": [
    "First, we take a wider look at all of the parts of LA County where our data is represented. We leave out the Antelope Valley and Catalina because we don't have any hygiene station data from those areas. <br>\n",
    "<br>\n",
    "Just from this zoomed out view of the datasets, we see that the tracts with the largest houseless populations are sprinkled throughout the County without any readily identifiable trends at first glance. We see some tracts with high houseless populations in the San Fernando Valley, particularly in the southern side up against the Studio City area. It seems that the most high concentration tracts occur throughout Central Los Angeles, Downtown LA, East LA, and the Mid City area, but also some parts of Culver-West and Westchester.<br>\n",
    "<br>\n",
    "To get an idea of how the toilets dataset looks countywide, we also conduct some spatial clustering below."
   ]
  },
  {
   "cell_type": "code",
   "execution_count": null,
   "id": "68b7c9fa",
   "metadata": {},
   "outputs": [],
   "source": [
    "# Splitting out our geoemtry column into separate lat long columns\n",
    "gdf = toilets\n",
    "gdf['lon'] = gdf.geometry.apply(lambda p: p.x)\n",
    "gdf['lat'] = gdf.geometry.apply(lambda p: p.y)\n",
    "\n",
    "# Running kmeans to create the cluster_id column based on the lat long\n",
    "# Selecting 5 clusters to begin with, knowing that we have around 5-6 different concentrations of data\n",
    "\n",
    "from sklearn.cluster import KMeans\n",
    "\n",
    "kmeans = KMeans(n_clusters=5, random_state=1).fit(gdf[['lat','lon']])\n",
    "gdf['cluster_id'] = kmeans.labels_\n",
    "\n",
    "# Plotting\n",
    "\n",
    "fig, ax = plt.subplots(figsize=(10,10))\n",
    "gdf.to_crs('EPSG:3857').plot('cluster_id', categorical=True, legend=True, \n",
    "                                   ax=ax, alpha=0.4)\n",
    "\n",
    "ctx.add_basemap(ax, source=ctx.providers.Stamen.TonerLite)\n",
    "ax.set_title('Spatial Clustering All Hygiene Stations', fontsize=20)                           \n",
    "\n",
    "ax.set_xticks([])\n",
    "ax.set_yticks([])"
   ]
  },
  {
   "cell_type": "markdown",
   "id": "2ef25eeb",
   "metadata": {},
   "source": [
    "It looks like the clusters breakdown as:\n",
    "\n",
    "0 - Central & East LA <br>\n",
    "1 - West San Fernando Valley <br>\n",
    "2 - West LA <br>\n",
    "3 - East San Fernando Valley <br>\n",
    "4 - South LA and South Bay\n",
    "<br>\n"
   ]
  },
  {
   "cell_type": "markdown",
   "id": "a1381627",
   "metadata": {},
   "source": [
    "Seeing as we have some clear clusters around Central LA, East LA and the San Fernando Valley, let's take a closer look at each of these neighborhoods"
   ]
  },
  {
   "cell_type": "code",
   "execution_count": null,
   "id": "c805ee88",
   "metadata": {},
   "outputs": [],
   "source": [
    "# Central LA specific map\n",
    "\n",
    "f, ax = plt.subplots(figsize=(20,20))\n",
    "\n",
    "toilets.plot('type', ax=ax, marker='o', markersize=20, legend=True)\n",
    "\n",
    "counts.plot('homeless_count', \n",
    "            ax=ax, \n",
    "            cmap='RdPu', \n",
    "            legend=True, \n",
    "            legend_kwds={'orientation': 'vertical', 'label':'Houseless Count'}, \n",
    "            alpha=0.25, \n",
    "            label='Count')\n",
    "ax.set_xlim([-118.40, -118.26]) \n",
    "ax.set_ylim([34.003307, 34.121767])\n",
    "ax.set_title('2020 Houseless Count Data with Hygiene Stations in Central LA', fontsize=25)\n",
    "\n",
    "ctx.add_basemap(ax,crs='EPSG:4326', source=ctx.providers.Stamen.TonerLite)\n",
    "\n",
    "plt.show()\n"
   ]
  },
  {
   "cell_type": "markdown",
   "id": "cce80845",
   "metadata": {},
   "source": [
    "Acknowledging that we do not have information about every bathroom available in LA, there is a noticeable gap in hygiene station availability in the Mid City area. Notably, the LAHSA Handwashing Stations (light green dots) almost seem to avoid that area entirely, but are in areas directly adjacent to Mid City like Koreatown or Culver City. In general, we see a decline of hygiene station density as we move west from Downtown, with zero community handwashing stations (blue dots) west of Westlake and MacArthur Park.\n"
   ]
  },
  {
   "cell_type": "code",
   "execution_count": null,
   "id": "b9bb83fc",
   "metadata": {},
   "outputs": [],
   "source": [
    "# East LA specific map\n",
    "\n",
    "f, ax = plt.subplots(figsize=(20,20))\n",
    "\n",
    "toilets.plot('type', ax=ax, marker='o', markersize=20, legend=True)\n",
    "\n",
    "counts.plot('homeless_count', \n",
    "            ax=ax, \n",
    "            cmap='RdPu', \n",
    "            legend=True, \n",
    "            legend_kwds={'orientation': 'vertical', 'label':'Houseless Count'}, \n",
    "            alpha=0.25)\n",
    "ax.set_xlim([-118.293942, -118.12]) \n",
    "ax.set_ylim([33.986563, 34.105046])\n",
    "ax.set_title('2020 Houseless Count Data with Hygiene Stations in Downtown & East LA', fontsize=25)\n",
    "\n",
    "ctx.add_basemap(ax,crs='EPSG:4326', source=ctx.providers.Stamen.TonerLite)\n",
    "\n",
    "plt.show()"
   ]
  },
  {
   "cell_type": "markdown",
   "id": "d96ee2d3",
   "metadata": {},
   "source": [
    "In Boyle Heights, we see a large houseless population with no LAHSA handwashing stations, no community stations, and no Shower or Refresh spots. The only data points we have for publicly available restrooms are from the LA City Library and a park. Downtown has the largest concentration of hygiene stations out of all of the neighborhoods in our dataset, and the density of hygiene stations dissapates as we move out of Downtown. \n",
    "<br>\n",
    "<br>\n",
    "The Westlake and MacArthur Park area has an especially large concentration of LAHSA Handwashing Stations, but there is a noticeable deadzone in the Historic Filipinotown area where there is a larger concentration of unhoused folks.\n",
    "<br>\n",
    "<br>\n",
    "Interestingly, the data Downtown seems to suggest that hygiene stations are placed just outside of where most houseless people were counted. This can be chalked up to the point data from the houseless dataset being right on the border between census tracts;."
   ]
  },
  {
   "cell_type": "code",
   "execution_count": null,
   "id": "f90b7d2d",
   "metadata": {},
   "outputs": [],
   "source": [
    "# Valley\n",
    "\n",
    "f, ax = plt.subplots(figsize=(20,20))\n",
    "\n",
    "toilets.plot('type', ax=ax, marker='o', markersize=20, legend=True)\n",
    "\n",
    "counts.plot('homeless_count', \n",
    "            ax=ax, \n",
    "            cmap='RdPu', \n",
    "            legend=True, \n",
    "            legend_kwds={'orientation': 'vertical', 'label':'Houseless Count'}, \n",
    "            alpha=0.25, \n",
    "            label='Count')\n",
    "ax.set_xlim([-118.68, -118.35]) \n",
    "ax.set_ylim([34.13, 34.335567])\n",
    "ax.set_title('2020 Houseless Count Data with Hygiene Stations in the Valley', fontsize=25)\n",
    "\n",
    "ctx.add_basemap(ax,crs='EPSG:4326', source=ctx.providers.Stamen.TonerLite)\n",
    "\n",
    "plt.show()"
   ]
  },
  {
   "cell_type": "markdown",
   "id": "9f416f2d",
   "metadata": {},
   "source": [
    "In the Valley, LAHSA Handwashing stations seem to be better placed in response to higher houseless populations. However, there is a noticeable disparity between houseless count and hygiene station availability in the Granada Hills South area. \n",
    "<br>\n",
    "<br>\n",
    "We also see LA City Library branches being positioned in tracts with large houseless populations, but because of the way that libraries are often policed, we remain doubtful that houselss folks are permitted to freely utilize libraries as hygiene stations."
   ]
  },
  {
   "cell_type": "code",
   "execution_count": null,
   "id": "1757f98c",
   "metadata": {},
   "outputs": [],
   "source": [
    "# South LA\n",
    "\n",
    "f, ax = plt.subplots(figsize=(20,20))\n",
    "\n",
    "toilets.plot('type', ax=ax, marker='o', markersize=20, legend=True)\n",
    "\n",
    "counts.plot('homeless_count', \n",
    "            ax=ax, \n",
    "            cmap='RdPu', \n",
    "            legend=True, \n",
    "            legend_kwds={'orientation': 'vertical', 'label':'Houseless Count'}, \n",
    "            alpha=0.25, \n",
    "            label='Count')\n",
    "ax.set_xlim([-118.38, -118.12910]) \n",
    "ax.set_ylim([33.69, 34.06])\n",
    "ax.set_title('2020 Houseless Count Data with Hygiene Stations in South LA and South Bay', fontsize=25)\n",
    "\n",
    "ctx.add_basemap(ax,crs='EPSG:4326', source=ctx.providers.Stamen.TonerLite, zoom=13)\n",
    "\n",
    "plt.show()"
   ]
  },
  {
   "cell_type": "markdown",
   "id": "87cbfa69",
   "metadata": {},
   "source": [
    "South LA and South Park are pretty well covered by LAHSA, but that stops as we move south of the I-105 Freeway, where there are quite high concentrations of houseless populations who are relying on just a couple of LA County Library branches.\n",
    "<br>\n",
    "<br>\n",
    "South Alameda St also seems to be a stark divider for houseless counts. Tracts west of South Alameda St show higher concentrations of houseless folks, and those east of Alameda are relatively less dense. The number of hygiene stations available reflects this breakdown, as LAHSA Handwashing Stations go from nearly 0 east of Alameda to quite numerous west of Alameda."
   ]
  },
  {
   "cell_type": "markdown",
   "id": "d7866869",
   "metadata": {},
   "source": [
    "## Takeaways & Concluding Thoughts"
   ]
  },
  {
   "cell_type": "markdown",
   "id": "1f82ee98",
   "metadata": {},
   "source": [
    "Because our list of hygiene stations is by no means a complete list of all publicy available stations in LA County, it is difficult to draw any sweeping conclusions about the availability of hygiene stations for our houseless neighbors. The houseless count data also has its own flaws, but the for the most part seems to reflect reality.\n",
    "<br>\n",
    "<br>\n",
    "Utilizing the data we do have, it does seem that there are a few specific areas of the city and the county where more LAHSA handwashing stations can be made available. Some of the most egregious people per hygiene station numbers occur in Mid City, East LA, and South LA. Additionally, our dataset shows that LA Parks can be a particularly valuable source of hygiene stations in areas that are largely without options. Unfortunately, access to Parks, as well as City and County Libraries, is restricted by policing, and as a result, an untrustworthy source of hygiene for houseless folks.\n",
    "<br>\n",
    "<br>\n",
    "Both hygiene stations and houseless folks are inherently difficult to produce data about, but hopefully our work here shows some of the ways that we can continue to work towards understanding more about houseless communities' access to basic hygiene. Readily available online maps currently do not display this variety of hygiene station types. We are building upon the work of LACAN, who built upon the LAHSA stations list, and we hope that this type of mapping will continue. Access to basic hygiene is a human right, and hopefully through mapping we can keep authorities like LAHSA and the City of LA accountable to where hygiene services are needed the most."
   ]
  },
  {
   "cell_type": "code",
   "execution_count": null,
   "id": "bfe1fce4",
   "metadata": {},
   "outputs": [],
   "source": []
  }
 ],
 "metadata": {
  "kernelspec": {
   "display_name": "Python 3 (ipykernel)",
   "language": "python",
   "name": "python3"
  },
  "language_info": {
   "codemirror_mode": {
    "name": "ipython",
    "version": 3
   },
   "file_extension": ".py",
   "mimetype": "text/x-python",
   "name": "python",
   "nbconvert_exporter": "python",
   "pygments_lexer": "ipython3",
   "version": "3.8.13"
  }
 },
 "nbformat": 4,
 "nbformat_minor": 5
}
