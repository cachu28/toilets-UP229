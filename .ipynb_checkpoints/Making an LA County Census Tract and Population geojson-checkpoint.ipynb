{
 "cells": [
  {
   "cell_type": "markdown",
   "id": "421f6c54",
   "metadata": {},
   "source": [
    "# Creating a gdf with tracts, population data, and homeless count data"
   ]
  },
  {
   "cell_type": "code",
   "execution_count": 1,
   "id": "fe31f094",
   "metadata": {},
   "outputs": [],
   "source": [
    "#import libraries\n",
    "import pandas as pd\n",
    "import geopandas as gpd\n",
    "import json\n",
    "import requests"
   ]
  },
  {
   "cell_type": "markdown",
   "id": "5d4b8bf0",
   "metadata": {},
   "source": [
    "## Bring in Census Population Data"
   ]
  },
  {
   "cell_type": "code",
   "execution_count": 2,
   "id": "448931e8",
   "metadata": {},
   "outputs": [
    {
     "data": {
      "text/html": [
       "<div>\n",
       "<style scoped>\n",
       "    .dataframe tbody tr th:only-of-type {\n",
       "        vertical-align: middle;\n",
       "    }\n",
       "\n",
       "    .dataframe tbody tr th {\n",
       "        vertical-align: top;\n",
       "    }\n",
       "\n",
       "    .dataframe thead th {\n",
       "        text-align: right;\n",
       "    }\n",
       "</style>\n",
       "<table border=\"1\" class=\"dataframe\">\n",
       "  <thead>\n",
       "    <tr style=\"text-align: right;\">\n",
       "      <th></th>\n",
       "      <th>NAME</th>\n",
       "      <th>B01003_001E</th>\n",
       "      <th>state</th>\n",
       "      <th>county</th>\n",
       "      <th>tract</th>\n",
       "    </tr>\n",
       "  </thead>\n",
       "  <tbody>\n",
       "    <tr>\n",
       "      <th>0</th>\n",
       "      <td>Census Tract 5301.02, Los Angeles County, Cali...</td>\n",
       "      <td>5308</td>\n",
       "      <td>06</td>\n",
       "      <td>037</td>\n",
       "      <td>530102</td>\n",
       "    </tr>\n",
       "    <tr>\n",
       "      <th>1</th>\n",
       "      <td>Census Tract 1046.10, Los Angeles County, Cali...</td>\n",
       "      <td>3385</td>\n",
       "      <td>06</td>\n",
       "      <td>037</td>\n",
       "      <td>104610</td>\n",
       "    </tr>\n",
       "    <tr>\n",
       "      <th>2</th>\n",
       "      <td>Census Tract 1065.10, Los Angeles County, Cali...</td>\n",
       "      <td>5151</td>\n",
       "      <td>06</td>\n",
       "      <td>037</td>\n",
       "      <td>106510</td>\n",
       "    </tr>\n",
       "    <tr>\n",
       "      <th>3</th>\n",
       "      <td>Census Tract 1066.41, Los Angeles County, Cali...</td>\n",
       "      <td>2145</td>\n",
       "      <td>06</td>\n",
       "      <td>037</td>\n",
       "      <td>106641</td>\n",
       "    </tr>\n",
       "    <tr>\n",
       "      <th>4</th>\n",
       "      <td>Census Tract 1132.13, Los Angeles County, Cali...</td>\n",
       "      <td>4714</td>\n",
       "      <td>06</td>\n",
       "      <td>037</td>\n",
       "      <td>113213</td>\n",
       "    </tr>\n",
       "  </tbody>\n",
       "</table>\n",
       "</div>"
      ],
      "text/plain": [
       "                                                NAME B01003_001E state county  \\\n",
       "0  Census Tract 5301.02, Los Angeles County, Cali...        5308    06    037   \n",
       "1  Census Tract 1046.10, Los Angeles County, Cali...        3385    06    037   \n",
       "2  Census Tract 1065.10, Los Angeles County, Cali...        5151    06    037   \n",
       "3  Census Tract 1066.41, Los Angeles County, Cali...        2145    06    037   \n",
       "4  Census Tract 1132.13, Los Angeles County, Cali...        4714    06    037   \n",
       "\n",
       "    tract  \n",
       "0  530102  \n",
       "1  104610  \n",
       "2  106510  \n",
       "3  106641  \n",
       "4  113213  "
      ]
     },
     "execution_count": 2,
     "metadata": {},
     "output_type": "execute_result"
    }
   ],
   "source": [
    "# call population census data using api\n",
    "#calling LA County, B01003_001E for total population estimates\n",
    "\n",
    "r = requests.get('https://api.census.gov/data/2015/acs/acs5?get=NAME,B01003_001E&for=tract:*&in=state:06%20county:037')\n",
    "censusdata = r.json()\n",
    "census_pop_df = pd.DataFrame(censusdata[1:], columns=censusdata[0])\n",
    "census_pop_df.head()"
   ]
  },
  {
   "cell_type": "code",
   "execution_count": 3,
   "id": "960dfc70",
   "metadata": {},
   "outputs": [],
   "source": [
    "#clean up data, drop unnecessary columns\n",
    "census_pop_df.drop (columns=['NAME', 'state', 'county'], inplace=True)"
   ]
  },
  {
   "cell_type": "code",
   "execution_count": 4,
   "id": "0e4e18a6",
   "metadata": {},
   "outputs": [],
   "source": [
    "#rename to something more understandable\n",
    "census_pop_df.rename(columns={'B01003_001E': 'total_pop'}, inplace=True)"
   ]
  },
  {
   "cell_type": "code",
   "execution_count": 5,
   "id": "37c1a603",
   "metadata": {},
   "outputs": [],
   "source": [
    "#convert total_pop from object to integer\n",
    "census_pop_df = census_pop_df.astype({'total_pop':'int'})"
   ]
  },
  {
   "cell_type": "code",
   "execution_count": 6,
   "id": "44efce42",
   "metadata": {},
   "outputs": [],
   "source": [
    "#set index in preparation for the join\n",
    "census_pop_df.set_index('tract', inplace=True)"
   ]
  },
  {
   "cell_type": "markdown",
   "id": "9cb558b1",
   "metadata": {},
   "source": [
    "Put this dataset to the side for a moment while I clean and prep the Census Tract gdf."
   ]
  },
  {
   "cell_type": "markdown",
   "id": "0b8eec9a",
   "metadata": {},
   "source": [
    "## Bring in Census Tract Geometry Data"
   ]
  },
  {
   "cell_type": "code",
   "execution_count": 7,
   "id": "800039a3",
   "metadata": {},
   "outputs": [],
   "source": [
    "#bring in census tracts which I downloaded from LA County Open Data Portal\n",
    "#set crs too\n",
    "\n",
    "tractsGdf = gpd.read_file('03_Data/Census Tracts 2010.geojson').to_crs(epsg='3857')"
   ]
  },
  {
   "cell_type": "code",
   "execution_count": 8,
   "id": "7d21533e",
   "metadata": {},
   "outputs": [],
   "source": [
    "# slice the geoid column so that it matches the 'tract' column from our census_pop_df\n",
    "# this is to prepare it for a join on the index\n",
    "\n",
    "tractsGdf['short_geoid'] = tractsGdf['geoid10'].str.slice(5,11)"
   ]
  },
  {
   "cell_type": "code",
   "execution_count": 9,
   "id": "426f8da1",
   "metadata": {},
   "outputs": [
    {
     "data": {
      "text/html": [
       "<div>\n",
       "<style scoped>\n",
       "    .dataframe tbody tr th:only-of-type {\n",
       "        vertical-align: middle;\n",
       "    }\n",
       "\n",
       "    .dataframe tbody tr th {\n",
       "        vertical-align: top;\n",
       "    }\n",
       "\n",
       "    .dataframe thead th {\n",
       "        text-align: right;\n",
       "    }\n",
       "</style>\n",
       "<table border=\"1\" class=\"dataframe\">\n",
       "  <thead>\n",
       "    <tr style=\"text-align: right;\">\n",
       "      <th></th>\n",
       "      <th>shape_area</th>\n",
       "      <th>label</th>\n",
       "      <th>x_center</th>\n",
       "      <th>ct10</th>\n",
       "      <th>y_center</th>\n",
       "      <th>geoid10</th>\n",
       "      <th>shape_len</th>\n",
       "      <th>geometry</th>\n",
       "      <th>short_geoid</th>\n",
       "    </tr>\n",
       "  </thead>\n",
       "  <tbody>\n",
       "    <tr>\n",
       "      <th>0</th>\n",
       "      <td>4025735684.42</td>\n",
       "      <td>9110.01</td>\n",
       "      <td>6620403.0</td>\n",
       "      <td>911001</td>\n",
       "      <td>1998891.0</td>\n",
       "      <td>06037911001</td>\n",
       "      <td>353933.808192</td>\n",
       "      <td>MULTIPOLYGON (((-13098644.005 4103977.264, -13...</td>\n",
       "      <td>911001</td>\n",
       "    </tr>\n",
       "    <tr>\n",
       "      <th>1</th>\n",
       "      <td>2078689856.02</td>\n",
       "      <td>9800.03</td>\n",
       "      <td>6575300.0</td>\n",
       "      <td>980003</td>\n",
       "      <td>2112006.0</td>\n",
       "      <td>06037980003</td>\n",
       "      <td>273188.86321</td>\n",
       "      <td>MULTIPOLYGON (((-13122409.702 4131803.723, -13...</td>\n",
       "      <td>980003</td>\n",
       "    </tr>\n",
       "    <tr>\n",
       "      <th>2</th>\n",
       "      <td>11118018325.1</td>\n",
       "      <td>9303.01</td>\n",
       "      <td>6603027.0</td>\n",
       "      <td>930301</td>\n",
       "      <td>1932124.0</td>\n",
       "      <td>06037930301</td>\n",
       "      <td>628603.531323</td>\n",
       "      <td>MULTIPOLYGON (((-13097320.943 4082264.760, -13...</td>\n",
       "      <td>930301</td>\n",
       "    </tr>\n",
       "    <tr>\n",
       "      <th>3</th>\n",
       "      <td>4824001.88224</td>\n",
       "      <td>5730.03</td>\n",
       "      <td>6500215.0</td>\n",
       "      <td>573003</td>\n",
       "      <td>1747305.0</td>\n",
       "      <td>06037573003</td>\n",
       "      <td>9050.00845755</td>\n",
       "      <td>MULTIPOLYGON (((-13157878.430 4001593.024, -13...</td>\n",
       "      <td>573003</td>\n",
       "    </tr>\n",
       "    <tr>\n",
       "      <th>4</th>\n",
       "      <td>6697030.7108</td>\n",
       "      <td>2976.02</td>\n",
       "      <td>6473372.0</td>\n",
       "      <td>297602</td>\n",
       "      <td>1719119.0</td>\n",
       "      <td>06037297602</td>\n",
       "      <td>12308.3153848</td>\n",
       "      <td>MULTIPOLYGON (((-13167757.701 3991612.251, -13...</td>\n",
       "      <td>297602</td>\n",
       "    </tr>\n",
       "  </tbody>\n",
       "</table>\n",
       "</div>"
      ],
      "text/plain": [
       "      shape_area    label   x_center    ct10   y_center      geoid10  \\\n",
       "0  4025735684.42  9110.01  6620403.0  911001  1998891.0  06037911001   \n",
       "1  2078689856.02  9800.03  6575300.0  980003  2112006.0  06037980003   \n",
       "2  11118018325.1  9303.01  6603027.0  930301  1932124.0  06037930301   \n",
       "3  4824001.88224  5730.03  6500215.0  573003  1747305.0  06037573003   \n",
       "4   6697030.7108  2976.02  6473372.0  297602  1719119.0  06037297602   \n",
       "\n",
       "       shape_len                                           geometry  \\\n",
       "0  353933.808192  MULTIPOLYGON (((-13098644.005 4103977.264, -13...   \n",
       "1   273188.86321  MULTIPOLYGON (((-13122409.702 4131803.723, -13...   \n",
       "2  628603.531323  MULTIPOLYGON (((-13097320.943 4082264.760, -13...   \n",
       "3  9050.00845755  MULTIPOLYGON (((-13157878.430 4001593.024, -13...   \n",
       "4  12308.3153848  MULTIPOLYGON (((-13167757.701 3991612.251, -13...   \n",
       "\n",
       "  short_geoid  \n",
       "0      911001  \n",
       "1      980003  \n",
       "2      930301  \n",
       "3      573003  \n",
       "4      297602  "
      ]
     },
     "execution_count": 9,
     "metadata": {},
     "output_type": "execute_result"
    }
   ],
   "source": [
    "#check that it worked - it did\n",
    "tractsGdf.head()"
   ]
  },
  {
   "cell_type": "code",
   "execution_count": 10,
   "id": "8651fdac",
   "metadata": {},
   "outputs": [],
   "source": [
    "#set the index\n",
    "tractsGdf.set_index('short_geoid', inplace=True)\n"
   ]
  },
  {
   "cell_type": "markdown",
   "id": "c4ab7055",
   "metadata": {},
   "source": [
    "## Do the join!"
   ]
  },
  {
   "cell_type": "code",
   "execution_count": 11,
   "id": "f78c03e5",
   "metadata": {},
   "outputs": [],
   "source": [
    "# bring back census_pop_df to join on index\n",
    "popGdf = tractsGdf.join (census_pop_df)"
   ]
  },
  {
   "cell_type": "code",
   "execution_count": 12,
   "id": "f5643bd8",
   "metadata": {},
   "outputs": [
    {
     "data": {
      "text/html": [
       "<div>\n",
       "<style scoped>\n",
       "    .dataframe tbody tr th:only-of-type {\n",
       "        vertical-align: middle;\n",
       "    }\n",
       "\n",
       "    .dataframe tbody tr th {\n",
       "        vertical-align: top;\n",
       "    }\n",
       "\n",
       "    .dataframe thead th {\n",
       "        text-align: right;\n",
       "    }\n",
       "</style>\n",
       "<table border=\"1\" class=\"dataframe\">\n",
       "  <thead>\n",
       "    <tr style=\"text-align: right;\">\n",
       "      <th></th>\n",
       "      <th>shape_area</th>\n",
       "      <th>label</th>\n",
       "      <th>x_center</th>\n",
       "      <th>ct10</th>\n",
       "      <th>y_center</th>\n",
       "      <th>geoid10</th>\n",
       "      <th>shape_len</th>\n",
       "      <th>geometry</th>\n",
       "      <th>total_pop</th>\n",
       "    </tr>\n",
       "    <tr>\n",
       "      <th>short_geoid</th>\n",
       "      <th></th>\n",
       "      <th></th>\n",
       "      <th></th>\n",
       "      <th></th>\n",
       "      <th></th>\n",
       "      <th></th>\n",
       "      <th></th>\n",
       "      <th></th>\n",
       "      <th></th>\n",
       "    </tr>\n",
       "  </thead>\n",
       "  <tbody>\n",
       "    <tr>\n",
       "      <th>911001</th>\n",
       "      <td>4025735684.42</td>\n",
       "      <td>9110.01</td>\n",
       "      <td>6620403.0</td>\n",
       "      <td>911001</td>\n",
       "      <td>1998891.0</td>\n",
       "      <td>06037911001</td>\n",
       "      <td>353933.808192</td>\n",
       "      <td>MULTIPOLYGON (((-13098644.005 4103977.264, -13...</td>\n",
       "      <td>4087.0</td>\n",
       "    </tr>\n",
       "    <tr>\n",
       "      <th>980003</th>\n",
       "      <td>2078689856.02</td>\n",
       "      <td>9800.03</td>\n",
       "      <td>6575300.0</td>\n",
       "      <td>980003</td>\n",
       "      <td>2112006.0</td>\n",
       "      <td>06037980003</td>\n",
       "      <td>273188.86321</td>\n",
       "      <td>MULTIPOLYGON (((-13122409.702 4131803.723, -13...</td>\n",
       "      <td>0.0</td>\n",
       "    </tr>\n",
       "    <tr>\n",
       "      <th>930301</th>\n",
       "      <td>11118018325.1</td>\n",
       "      <td>9303.01</td>\n",
       "      <td>6603027.0</td>\n",
       "      <td>930301</td>\n",
       "      <td>1932124.0</td>\n",
       "      <td>06037930301</td>\n",
       "      <td>628603.531323</td>\n",
       "      <td>MULTIPOLYGON (((-13097320.943 4082264.760, -13...</td>\n",
       "      <td>869.0</td>\n",
       "    </tr>\n",
       "    <tr>\n",
       "      <th>573003</th>\n",
       "      <td>4824001.88224</td>\n",
       "      <td>5730.03</td>\n",
       "      <td>6500215.0</td>\n",
       "      <td>573003</td>\n",
       "      <td>1747305.0</td>\n",
       "      <td>06037573003</td>\n",
       "      <td>9050.00845755</td>\n",
       "      <td>MULTIPOLYGON (((-13157878.430 4001593.024, -13...</td>\n",
       "      <td>2016.0</td>\n",
       "    </tr>\n",
       "    <tr>\n",
       "      <th>297602</th>\n",
       "      <td>6697030.7108</td>\n",
       "      <td>2976.02</td>\n",
       "      <td>6473372.0</td>\n",
       "      <td>297602</td>\n",
       "      <td>1719119.0</td>\n",
       "      <td>06037297602</td>\n",
       "      <td>12308.3153848</td>\n",
       "      <td>MULTIPOLYGON (((-13167757.701 3991612.251, -13...</td>\n",
       "      <td>4005.0</td>\n",
       "    </tr>\n",
       "  </tbody>\n",
       "</table>\n",
       "</div>"
      ],
      "text/plain": [
       "                shape_area    label   x_center    ct10   y_center  \\\n",
       "short_geoid                                                         \n",
       "911001       4025735684.42  9110.01  6620403.0  911001  1998891.0   \n",
       "980003       2078689856.02  9800.03  6575300.0  980003  2112006.0   \n",
       "930301       11118018325.1  9303.01  6603027.0  930301  1932124.0   \n",
       "573003       4824001.88224  5730.03  6500215.0  573003  1747305.0   \n",
       "297602        6697030.7108  2976.02  6473372.0  297602  1719119.0   \n",
       "\n",
       "                 geoid10      shape_len  \\\n",
       "short_geoid                               \n",
       "911001       06037911001  353933.808192   \n",
       "980003       06037980003   273188.86321   \n",
       "930301       06037930301  628603.531323   \n",
       "573003       06037573003  9050.00845755   \n",
       "297602       06037297602  12308.3153848   \n",
       "\n",
       "                                                      geometry  total_pop  \n",
       "short_geoid                                                                \n",
       "911001       MULTIPOLYGON (((-13098644.005 4103977.264, -13...     4087.0  \n",
       "980003       MULTIPOLYGON (((-13122409.702 4131803.723, -13...        0.0  \n",
       "930301       MULTIPOLYGON (((-13097320.943 4082264.760, -13...      869.0  \n",
       "573003       MULTIPOLYGON (((-13157878.430 4001593.024, -13...     2016.0  \n",
       "297602       MULTIPOLYGON (((-13167757.701 3991612.251, -13...     4005.0  "
      ]
     },
     "execution_count": 12,
     "metadata": {},
     "output_type": "execute_result"
    }
   ],
   "source": [
    "#check that it worked and there aren't a bunch of NaN's\n",
    "popGdf.head()"
   ]
  },
  {
   "cell_type": "code",
   "execution_count": 13,
   "id": "97747db7",
   "metadata": {},
   "outputs": [],
   "source": [
    "#going to prep to join to homeless count data\n",
    "#so first, reset index\n",
    "popGdf.reset_index(inplace=True)"
   ]
  },
  {
   "cell_type": "code",
   "execution_count": 14,
   "id": "f6e4e6ca",
   "metadata": {},
   "outputs": [],
   "source": [
    "#change this column to an integer so i can join on integer later\n",
    "popGdf = popGdf.astype({'short_geoid':'int'})"
   ]
  },
  {
   "cell_type": "code",
   "execution_count": 15,
   "id": "18ab7fae",
   "metadata": {},
   "outputs": [],
   "source": [
    "#reset the index\n",
    "popGdf.set_index('short_geoid', inplace=True)"
   ]
  },
  {
   "cell_type": "markdown",
   "id": "8cefc3e6",
   "metadata": {},
   "source": [
    "Put this data set to the side while I work on Homeless Count Data"
   ]
  },
  {
   "cell_type": "markdown",
   "id": "0e11d7f2",
   "metadata": {},
   "source": [
    "## Bring in Homeless Count Data"
   ]
  },
  {
   "cell_type": "code",
   "execution_count": 16,
   "id": "7ff80dda",
   "metadata": {},
   "outputs": [],
   "source": [
    "count = pd.read_excel('03_Data/Homeless Count/2020-Street-Count-Results-by-Census-Tract-trimmed.xlsx')"
   ]
  },
  {
   "cell_type": "code",
   "execution_count": 17,
   "id": "98ee1824",
   "metadata": {},
   "outputs": [
    {
     "data": {
      "text/plain": [
       "Index(['FID_LA_Cou', 'STATEFP10', 'COUNTYFP10', 'TRACTCE10', 'GEOID10',\n",
       "       'Non-CoC Flag', 'Non-CoC Place', 'NAME10', 'NAMELSAD10', 'CT_NAME',\n",
       "       'MTFCC10', 'FUNCSTAT10', 'ALAND10', 'AWATER10', 'INTPTLAT10',\n",
       "       'INTPTLON10', 'FID_Servic', 'SPA_NAME', 'SPA_2012', 'LACityCD12',\n",
       "       'LA_CoSupDist11'],\n",
       "      dtype='object')"
      ]
     },
     "execution_count": 17,
     "metadata": {},
     "output_type": "execute_result"
    }
   ],
   "source": [
    "count.columns"
   ]
  },
  {
   "cell_type": "code",
   "execution_count": 18,
   "id": "904f6eee",
   "metadata": {},
   "outputs": [],
   "source": [
    "count.drop (columns=['STATEFP10', 'COUNTYFP10', 'GEOID10', 'Non-CoC Flag', 'Non-CoC Place', \n",
    "                     'NAME10', 'NAMELSAD10', 'CT_NAME','MTFCC10', 'FUNCSTAT10', \n",
    "                     'ALAND10', 'AWATER10', 'INTPTLAT10','INTPTLON10', 'FID_Servic', \n",
    "                     'SPA_NAME', 'SPA_2012', 'LACityCD12',\n",
    "                     'LA_CoSupDist11'], inplace=True)"
   ]
  },
  {
   "cell_type": "code",
   "execution_count": 19,
   "id": "647ee6d9",
   "metadata": {},
   "outputs": [],
   "source": [
    "count.rename(columns={'FID_LA_Cou': 'homeless_count'}, inplace=True)"
   ]
  },
  {
   "cell_type": "code",
   "execution_count": 20,
   "id": "6ce88c87",
   "metadata": {},
   "outputs": [],
   "source": [
    "count.set_index('TRACTCE10', inplace=True)"
   ]
  },
  {
   "cell_type": "code",
   "execution_count": 21,
   "id": "f5afb0ae",
   "metadata": {},
   "outputs": [],
   "source": [
    "countGdf = popGdf.join(count)"
   ]
  },
  {
   "cell_type": "code",
   "execution_count": 22,
   "id": "350b9acb",
   "metadata": {},
   "outputs": [],
   "source": [
    "# to see full dataframes\n",
    "pd.set_option('display.max_columns', None)"
   ]
  },
  {
   "cell_type": "code",
   "execution_count": 23,
   "id": "3c4f2f24",
   "metadata": {
    "scrolled": true
   },
   "outputs": [
    {
     "data": {
      "text/html": [
       "<div>\n",
       "<style scoped>\n",
       "    .dataframe tbody tr th:only-of-type {\n",
       "        vertical-align: middle;\n",
       "    }\n",
       "\n",
       "    .dataframe tbody tr th {\n",
       "        vertical-align: top;\n",
       "    }\n",
       "\n",
       "    .dataframe thead th {\n",
       "        text-align: right;\n",
       "    }\n",
       "</style>\n",
       "<table border=\"1\" class=\"dataframe\">\n",
       "  <thead>\n",
       "    <tr style=\"text-align: right;\">\n",
       "      <th></th>\n",
       "      <th>shape_area</th>\n",
       "      <th>label</th>\n",
       "      <th>x_center</th>\n",
       "      <th>ct10</th>\n",
       "      <th>y_center</th>\n",
       "      <th>geoid10</th>\n",
       "      <th>shape_len</th>\n",
       "      <th>geometry</th>\n",
       "      <th>total_pop</th>\n",
       "      <th>homeless_count</th>\n",
       "    </tr>\n",
       "    <tr>\n",
       "      <th>short_geoid</th>\n",
       "      <th></th>\n",
       "      <th></th>\n",
       "      <th></th>\n",
       "      <th></th>\n",
       "      <th></th>\n",
       "      <th></th>\n",
       "      <th></th>\n",
       "      <th></th>\n",
       "      <th></th>\n",
       "      <th></th>\n",
       "    </tr>\n",
       "  </thead>\n",
       "  <tbody>\n",
       "    <tr>\n",
       "      <th>911001</th>\n",
       "      <td>4025735684.42</td>\n",
       "      <td>9110.01</td>\n",
       "      <td>6620403.0</td>\n",
       "      <td>911001</td>\n",
       "      <td>1998891.0</td>\n",
       "      <td>06037911001</td>\n",
       "      <td>353933.808192</td>\n",
       "      <td>MULTIPOLYGON (((-13098644.005 4103977.264, -13...</td>\n",
       "      <td>4087.0</td>\n",
       "      <td>30.0</td>\n",
       "    </tr>\n",
       "    <tr>\n",
       "      <th>980003</th>\n",
       "      <td>2078689856.02</td>\n",
       "      <td>9800.03</td>\n",
       "      <td>6575300.0</td>\n",
       "      <td>980003</td>\n",
       "      <td>2112006.0</td>\n",
       "      <td>06037980003</td>\n",
       "      <td>273188.86321</td>\n",
       "      <td>MULTIPOLYGON (((-13122409.702 4131803.723, -13...</td>\n",
       "      <td>0.0</td>\n",
       "      <td>925.0</td>\n",
       "    </tr>\n",
       "    <tr>\n",
       "      <th>930301</th>\n",
       "      <td>11118018325.1</td>\n",
       "      <td>9303.01</td>\n",
       "      <td>6603027.0</td>\n",
       "      <td>930301</td>\n",
       "      <td>1932124.0</td>\n",
       "      <td>06037930301</td>\n",
       "      <td>628603.531323</td>\n",
       "      <td>MULTIPOLYGON (((-13097320.943 4082264.760, -13...</td>\n",
       "      <td>869.0</td>\n",
       "      <td>928.0</td>\n",
       "    </tr>\n",
       "    <tr>\n",
       "      <th>573003</th>\n",
       "      <td>4824001.88224</td>\n",
       "      <td>5730.03</td>\n",
       "      <td>6500215.0</td>\n",
       "      <td>573003</td>\n",
       "      <td>1747305.0</td>\n",
       "      <td>06037573003</td>\n",
       "      <td>9050.00845755</td>\n",
       "      <td>MULTIPOLYGON (((-13157878.430 4001593.024, -13...</td>\n",
       "      <td>2016.0</td>\n",
       "      <td>2.0</td>\n",
       "    </tr>\n",
       "    <tr>\n",
       "      <th>297602</th>\n",
       "      <td>6697030.7108</td>\n",
       "      <td>2976.02</td>\n",
       "      <td>6473372.0</td>\n",
       "      <td>297602</td>\n",
       "      <td>1719119.0</td>\n",
       "      <td>06037297602</td>\n",
       "      <td>12308.3153848</td>\n",
       "      <td>MULTIPOLYGON (((-13167757.701 3991612.251, -13...</td>\n",
       "      <td>4005.0</td>\n",
       "      <td>64.0</td>\n",
       "    </tr>\n",
       "  </tbody>\n",
       "</table>\n",
       "</div>"
      ],
      "text/plain": [
       "                shape_area    label   x_center    ct10   y_center  \\\n",
       "short_geoid                                                         \n",
       "911001       4025735684.42  9110.01  6620403.0  911001  1998891.0   \n",
       "980003       2078689856.02  9800.03  6575300.0  980003  2112006.0   \n",
       "930301       11118018325.1  9303.01  6603027.0  930301  1932124.0   \n",
       "573003       4824001.88224  5730.03  6500215.0  573003  1747305.0   \n",
       "297602        6697030.7108  2976.02  6473372.0  297602  1719119.0   \n",
       "\n",
       "                 geoid10      shape_len  \\\n",
       "short_geoid                               \n",
       "911001       06037911001  353933.808192   \n",
       "980003       06037980003   273188.86321   \n",
       "930301       06037930301  628603.531323   \n",
       "573003       06037573003  9050.00845755   \n",
       "297602       06037297602  12308.3153848   \n",
       "\n",
       "                                                      geometry  total_pop  \\\n",
       "short_geoid                                                                 \n",
       "911001       MULTIPOLYGON (((-13098644.005 4103977.264, -13...     4087.0   \n",
       "980003       MULTIPOLYGON (((-13122409.702 4131803.723, -13...        0.0   \n",
       "930301       MULTIPOLYGON (((-13097320.943 4082264.760, -13...      869.0   \n",
       "573003       MULTIPOLYGON (((-13157878.430 4001593.024, -13...     2016.0   \n",
       "297602       MULTIPOLYGON (((-13167757.701 3991612.251, -13...     4005.0   \n",
       "\n",
       "             homeless_count  \n",
       "short_geoid                  \n",
       "911001                 30.0  \n",
       "980003                925.0  \n",
       "930301                928.0  \n",
       "573003                  2.0  \n",
       "297602                 64.0  "
      ]
     },
     "execution_count": 23,
     "metadata": {},
     "output_type": "execute_result"
    }
   ],
   "source": [
    "countGdf.head()"
   ]
  },
  {
   "cell_type": "code",
   "execution_count": 24,
   "id": "66a0679c",
   "metadata": {},
   "outputs": [
    {
     "name": "stdout",
     "output_type": "stream",
     "text": [
      "<class 'geopandas.geodataframe.GeoDataFrame'>\n",
      "Int64Index: 2345 entries, 911001 to 137000\n",
      "Data columns (total 10 columns):\n",
      " #   Column          Non-Null Count  Dtype   \n",
      "---  ------          --------------  -----   \n",
      " 0   shape_area      2345 non-null   object  \n",
      " 1   label           2345 non-null   object  \n",
      " 2   x_center        2345 non-null   object  \n",
      " 3   ct10            2345 non-null   object  \n",
      " 4   y_center        2345 non-null   object  \n",
      " 5   geoid10         2345 non-null   object  \n",
      " 6   shape_len       2345 non-null   object  \n",
      " 7   geometry        2345 non-null   geometry\n",
      " 8   total_pop       2344 non-null   float64 \n",
      " 9   homeless_count  2344 non-null   float64 \n",
      "dtypes: float64(2), geometry(1), object(7)\n",
      "memory usage: 266.1+ KB\n"
     ]
    }
   ],
   "source": [
    "countGdf.info()"
   ]
  },
  {
   "cell_type": "code",
   "execution_count": 26,
   "id": "d34b58cc",
   "metadata": {},
   "outputs": [],
   "source": [
    "import fiona\n",
    "countGdf.to_file(\"homelesscount_tracts.geojson\", driver='GeoJSON')"
   ]
  },
  {
   "cell_type": "code",
   "execution_count": 27,
   "id": "04eda0e6",
   "metadata": {},
   "outputs": [],
   "source": [
    "import contextily as ctx\n",
    "import matplotlib.pyplot as plt"
   ]
  },
  {
   "cell_type": "code",
   "execution_count": 33,
   "id": "afda7053",
   "metadata": {},
   "outputs": [
    {
     "data": {
      "text/plain": [
       "<AxesSubplot:>"
      ]
     },
     "execution_count": 33,
     "metadata": {},
     "output_type": "execute_result"
    },
    {
     "data": {
      "image/png": "[encoded data removed]",
      "text/plain": [
       "<Figure size 432x288 with 1 Axes>"
      ]
     },
     "metadata": {
      "needs_background": "light"
     },
     "output_type": "display_data"
    }
   ],
   "source": [
    "countGdf.plot()"
   ]
  },
  {
   "cell_type": "code",
   "execution_count": 36,
   "id": "85833c1b",
   "metadata": {},
   "outputs": [
    {
     "data": {
      "image/png": "[encoded data removed]",
      "text/plain": [
       "<Figure size 864x864 with 2 Axes>"
      ]
     },
     "metadata": {
      "needs_background": "light"
     },
     "output_type": "display_data"
    }
   ],
   "source": [
    "fig, ax = plt.subplots(figsize=(12,12))\n",
    "\n",
    "countGdf.plot('homeless_count',\n",
    "               legend = True, \n",
    "               ax = ax, \n",
    "               alpha = 0.3,\n",
    "               cmap='plasma'\n",
    "              )\n",
    "\n",
    "# turn the axis off\n",
    "#ax.axis('off')\n",
    "\n",
    "# set a title\n",
    "#ax.set_title('Transit Agencies Clusters',fontsize=20,pad=15)\n",
    "\n",
    "# add a basemap\n",
    "ctx.add_basemap (ax, zoom=5, source=ctx.providers.CartoDB.Positron)\n",
    "\n",
    "#below is code that i tried tweaking from kevin's stuff, but it wasn't working out for me\n",
    "#plotting counts\n",
    "\n",
    "#f, ax = plt.subplots(figsize=(20,20))\n",
    "\n",
    "#countGdf.plot('homeless_count', ax=ax, cmap='plasma', legend=True, legend_kwds={'orientation': 'vertical'}, alpha=0.3, label='Count')\n",
    "#ax.set_xlim([-118.721783, -118.08]) \n",
    "#ax.set_ylim([33.68, 34.4])\n",
    "\n",
    "#ctx.add_basemap(ax,', source=ctx.providers.Stamen.TonerLite)\n",
    "\n",
    "#plt.show()"
   ]
  },
  {
   "cell_type": "code",
   "execution_count": null,
   "id": "6b37d9c0",
   "metadata": {},
   "outputs": [],
   "source": []
  }
 ],
 "metadata": {
  "kernelspec": {
   "display_name": "Python 3 (ipykernel)",
   "language": "python",
   "name": "python3"
  },
  "language_info": {
   "codemirror_mode": {
    "name": "ipython",
    "version": 3
   },
   "file_extension": ".py",
   "mimetype": "text/x-python",
   "name": "python",
   "nbconvert_exporter": "python",
   "pygments_lexer": "ipython3",
   "version": "3.8.13"
  }
 },
 "nbformat": 4,
 "nbformat_minor": 5
}
